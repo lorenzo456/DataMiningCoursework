{
 "cells": [
  {
   "cell_type": "code",
   "execution_count": 1,
   "metadata": {},
   "outputs": [],
   "source": [
    "import pandas as pd\n",
    "import numpy as np\n",
    "import cv2 as cv\n",
    "import matplotlib.pyplot as plt\n",
    "\n",
    "import sklearn\n",
    "from sklearn.metrics import accuracy_score\n",
    "from sklearn.model_selection import train_test_split\n",
    "from sklearn.naive_bayes import GaussianNB, BernoulliNB, MultinomialNB\n",
    "from sklearn.metrics import confusion_matrix, classification_report\n"
   ]
  },
  {
   "cell_type": "code",
   "execution_count": 2,
   "metadata": {},
   "outputs": [],
   "source": [
    "# Pre-processing methods for the dataset\n",
    "\n",
    "def get_array_of_matrix(dataset):\n",
    "    array_of_images = []\n",
    "    for row in dataset:\n",
    "        row = np.asarray(row)\n",
    "        matrix = np.reshape(row, (48, 48))\n",
    "        array_of_images.append(matrix)\n",
    "    return array_of_images\n",
    "\n",
    "\n",
    "def crop_dataset(dataset, row, clmn):\n",
    "    copped_dataset = []\n",
    "    for image in dataset:\n",
    "        y, x = image.shape\n",
    "        first_x = x//2-(row//2)\n",
    "        first_y = y//2-(clmn//2)\n",
    "        copped_dataset.append(image[first_y:first_y + clmn, first_x:first_x + row])\n",
    "    return copped_dataset\n",
    "\n",
    "\n",
    "def reshape_dataset(dataset):\n",
    "    reshaped_dataset = []\n",
    "    for image in dataset:\n",
    "        image = cv.resize(image, (48, 48)) # un po' bruttino\n",
    "        image = image.flatten()\n",
    "        reshaped_dataset.append(image)\n",
    "    # reshaped_dataset = np.reshape(reshaped_dataset, (12660, 2304)) # un po' bruttino\n",
    "    return reshaped_dataset\n",
    "\n",
    "\n",
    "def apply_adaptive_threshold(dataset):\n",
    "    dataset_with_filter = []\n",
    "    for image in dataset:\n",
    "        image = cv.adaptiveThreshold(image, 255, cv.ADAPTIVE_THRESH_GAUSSIAN_C, cv.THRESH_BINARY, 11, 2)\n",
    "        image = image.flatten()\n",
    "        dataset_with_filter.append(image)\n",
    "    dataset_with_filter = np.reshape(dataset_with_filter, (12660, 1600))\n",
    "    return dataset_with_filter"
   ]
  },
  {
   "cell_type": "code",
   "execution_count": 3,
   "metadata": {},
   "outputs": [],
   "source": [
    "x_train_gr_smpl = pd.read_csv(\"./datasets/x_train_gr_smpl.csv\", delimiter=\",\", dtype=np.uint8)\n",
    "y_train_smpl = pd.read_csv(\"./datasets/y_train_smpl.csv\", delimiter=\",\", dtype=np.uint8)"
   ]
  },
  {
   "cell_type": "code",
   "execution_count": 4,
   "metadata": {},
   "outputs": [],
   "source": [
    "dataset = np.asmatrix(x_train_gr_smpl)\n",
    "aom_dataset = get_array_of_matrix(dataset)\n",
    "cropped_dataset = crop_dataset(aom_dataset, 40, 40) # un po' bruttino\n",
    "#new_dataset = reshape_dataset(cropped_dataset)\n",
    "new_dataset = apply_adaptive_threshold(cropped_dataset)"
   ]
  },
  {
   "cell_type": "code",
   "execution_count": 5,
   "metadata": {},
   "outputs": [],
   "source": [
    "# add y_train_smpl to new_dataset ---KARAN\n",
    "dataset = np.append(new_dataset, y_train_smpl, axis=1)\n",
    "x = dataset[:, 0:1599]\n",
    "y = dataset[:, -1]\n",
    "X_train, X_test, y_train, y_test = train_test_split(x, y, test_size=.33, random_state=17)"
   ]
  },
  {
   "cell_type": "code",
   "execution_count": 6,
   "metadata": {},
   "outputs": [],
   "source": [
    "# Create a pandas dataframe  \n",
    "dataframe = pd.DataFrame(data=dataset, index=None,columns=None,dtype=np.uint8, copy=False)"
   ]
  },
  {
   "cell_type": "markdown",
   "metadata": {},
   "source": [
    " "
   ]
  },
  {
   "cell_type": "markdown",
   "metadata": {},
   "source": [
    "\n",
    "# Clustering"
   ]
  },
  {
   "cell_type": "markdown",
   "metadata": {},
   "source": [
    "Source: udemy.com"
   ]
  },
  {
   "cell_type": "code",
   "execution_count": 7,
   "metadata": {},
   "outputs": [],
   "source": [
    "from sklearn.preprocessing import StandardScaler"
   ]
  },
  {
   "cell_type": "code",
   "execution_count": 8,
   "metadata": {},
   "outputs": [],
   "source": [
    "scaler = StandardScaler()"
   ]
  },
  {
   "cell_type": "code",
   "execution_count": 9,
   "metadata": {},
   "outputs": [
    {
     "name": "stderr",
     "output_type": "stream",
     "text": [
      "C:\\Users\\singh\\Anaconda3\\lib\\site-packages\\sklearn\\preprocessing\\data.py:625: DataConversionWarning: Data with input dtype uint8 were all converted to float64 by StandardScaler.\n",
      "  return self.partial_fit(X, y)\n",
      "C:\\Users\\singh\\Anaconda3\\lib\\site-packages\\ipykernel_launcher.py:3: DataConversionWarning: Data with input dtype uint8 were all converted to float64 by StandardScaler.\n",
      "  This is separate from the ipykernel package so we can avoid doing imports until\n"
     ]
    }
   ],
   "source": [
    "dataframe.rename(columns ={1600:\"Label\"}, inplace =True) #Renaming the last column as \"Label\"\n",
    "scaler.fit(dataframe.drop(\"Label\", axis=1))# Fit the data to all columns except Labels\n",
    "scaled_features = scaler.transform(dataframe.drop(\"Label\", axis=1))\n",
    "df_feat = pd.DataFrame(scaled_features,columns=dataframe.columns[:-1])"
   ]
  },
  {
   "cell_type": "code",
   "execution_count": 10,
   "metadata": {},
   "outputs": [],
   "source": [
    "X = df_feat\n",
    "y = dataframe[\"Label\"]\n",
    "\n",
    "X_train, X_test, y_train, y_test = train_test_split(X, y, test_size=0.3, random_state=42)"
   ]
  },
  {
   "cell_type": "code",
   "execution_count": 11,
   "metadata": {},
   "outputs": [],
   "source": [
    "from sklearn.neighbors import KNeighborsClassifier"
   ]
  },
  {
   "cell_type": "code",
   "execution_count": 12,
   "metadata": {},
   "outputs": [
    {
     "data": {
      "text/plain": [
       "KNeighborsClassifier(algorithm='auto', leaf_size=30, metric='minkowski',\n",
       "           metric_params=None, n_jobs=None, n_neighbors=10, p=2,\n",
       "           weights='uniform')"
      ]
     },
     "execution_count": 12,
     "metadata": {},
     "output_type": "execute_result"
    }
   ],
   "source": [
    "knn = KNeighborsClassifier(n_neighbors=10)\n",
    "knn.fit(X_train,y_train)"
   ]
  },
  {
   "cell_type": "code",
   "execution_count": 13,
   "metadata": {},
   "outputs": [],
   "source": [
    "pred = knn.predict(X_test)"
   ]
  },
  {
   "cell_type": "code",
   "execution_count": 14,
   "metadata": {},
   "outputs": [
    {
     "name": "stdout",
     "output_type": "stream",
     "text": [
      "[[355  61   0   0   0   3   0   0   0   0]\n",
      " [ 80 479   0   0   0   4   0   0   1   0]\n",
      " [  1   2 125   0   0   1   0   2   0   0]\n",
      " [  9   1   0 393   1   1   0   0   0   0]\n",
      " [  5   1   0   0 622   1   0   0   1   0]\n",
      " [  2   0   0   0   0 675   0   0   0   0]\n",
      " [  1   1   1   0   0   0 233   0   1   0]\n",
      " [  6   4   1   0   0   0   0  53   0   0]\n",
      " [ 18   4   0   0   0   4   0   0 545   0]\n",
      " [  1   0   0   0   0   0   0   0   0  99]]\n",
      "              precision    recall  f1-score   support\n",
      "\n",
      "           0       0.74      0.85      0.79       419\n",
      "           1       0.87      0.85      0.86       564\n",
      "           2       0.98      0.95      0.97       131\n",
      "           3       1.00      0.97      0.98       405\n",
      "           4       1.00      0.99      0.99       630\n",
      "           5       0.98      1.00      0.99       677\n",
      "           6       1.00      0.98      0.99       237\n",
      "           7       0.96      0.83      0.89        64\n",
      "           8       0.99      0.95      0.97       571\n",
      "           9       1.00      0.99      0.99       100\n",
      "\n",
      "   micro avg       0.94      0.94      0.94      3798\n",
      "   macro avg       0.95      0.94      0.94      3798\n",
      "weighted avg       0.95      0.94      0.94      3798\n",
      "\n"
     ]
    }
   ],
   "source": [
    "print(confusion_matrix(y_test,pred))\n",
    "print(classification_report(y_test,pred))"
   ]
  },
  {
   "cell_type": "code",
   "execution_count": 15,
   "metadata": {},
   "outputs": [
    {
     "name": "stdout",
     "output_type": "stream",
     "text": [
      "[[359  58   0   0   0   2   0   0   0   0]\n",
      " [ 60 502   0   1   0   1   0   0   0   0]\n",
      " [  2   1 127   0   0   1   0   0   0   0]\n",
      " [  6   0   0 397   1   0   0   0   1   0]\n",
      " [  0   0   0   0 627   2   1   0   0   0]\n",
      " [  1   0   0   0   0 676   0   0   0   0]\n",
      " [  0   0   1   0   0   0 236   0   0   0]\n",
      " [  2   0   0   0   0   0   0  62   0   0]\n",
      " [  9   3   0   0   0   0   0   0 559   0]\n",
      " [  0   1   0   0   0   0   0   0   0  99]]\n",
      "              precision    recall  f1-score   support\n",
      "\n",
      "           0       0.82      0.86      0.84       419\n",
      "           1       0.89      0.89      0.89       564\n",
      "           2       0.99      0.97      0.98       131\n",
      "           3       1.00      0.98      0.99       405\n",
      "           4       1.00      1.00      1.00       630\n",
      "           5       0.99      1.00      0.99       677\n",
      "           6       1.00      1.00      1.00       237\n",
      "           7       1.00      0.97      0.98        64\n",
      "           8       1.00      0.98      0.99       571\n",
      "           9       1.00      0.99      0.99       100\n",
      "\n",
      "   micro avg       0.96      0.96      0.96      3798\n",
      "   macro avg       0.97      0.96      0.97      3798\n",
      "weighted avg       0.96      0.96      0.96      3798\n",
      "\n"
     ]
    }
   ],
   "source": [
    "knn2 = KNeighborsClassifier(n_neighbors=1)# Only 1 cluster\n",
    "knn2.fit(X_train,y_train)\n",
    "pred2 = knn2.predict(X_test)\n",
    "print(confusion_matrix(y_test,pred2))\n",
    "print(classification_report(y_test,pred2))"
   ]
  },
  {
   "cell_type": "markdown",
   "metadata": {},
   "source": [
    "#### Varying the clusters"
   ]
  },
  {
   "cell_type": "code",
   "execution_count": 16,
   "metadata": {},
   "outputs": [],
   "source": [
    "error_rate =[]\n",
    "\n",
    "for i in range(1,20):\n",
    "    knn=KNeighborsClassifier(n_neighbors=i)\n",
    "    knn.fit(X_train,y_train)\n",
    "    pred_i = knn.predict(X_test)\n",
    "    error_rate.append(np.mean(pred_i != y_test)) #Average predictions not equal to test values"
   ]
  },
  {
   "cell_type": "code",
   "execution_count": 17,
   "metadata": {},
   "outputs": [
    {
     "data": {
      "text/plain": [
       "Text(0, 0.5, 'Error Rate')"
      ]
     },
     "execution_count": 17,
     "metadata": {},
     "output_type": "execute_result"
    },
    {
     "data": {
      "image/png": "[encoded data removed]",
      "text/plain": [
       "<Figure size 288x288 with 1 Axes>"
      ]
     },
     "metadata": {
      "needs_background": "light"
     },
     "output_type": "display_data"
    }
   ],
   "source": [
    "plt.figure(figsize=(4,4))\n",
    "plt.plot(range(1,20),error_rate,color=\"blue\",linestyle='dashed',marker=\"o\",markerfacecolor=\"red\",markersize=10)\n",
    "plt.title(\"Error rate vs K-Value\")\n",
    "plt.xlabel(\"K\")\n",
    "plt.ylabel(\"Error Rate\")"
   ]
  },
  {
   "cell_type": "code",
   "execution_count": null,
   "metadata": {},
   "outputs": [],
   "source": [
    "from sklearn.manifold import TSNE"
   ]
  },
  {
   "cell_type": "code",
   "execution_count": null,
   "metadata": {},
   "outputs": [],
   "source": [
    "x_train_emb3 = TSNE(n_components=3, perplexity=35).fit_transform(X_train)"
   ]
  },
  {
   "cell_type": "code",
   "execution_count": null,
   "metadata": {},
   "outputs": [],
   "source": [
    "print(x_train_emb3.shape)"
   ]
  },
  {
   "cell_type": "code",
   "execution_count": null,
   "metadata": {},
   "outputs": [],
   "source": [
    "from mpl_toolkits.mplot3d import Axes3D\n",
    "%matplotlib notebook"
   ]
  },
  {
   "cell_type": "code",
   "execution_count": null,
   "metadata": {},
   "outputs": [],
   "source": [
    "fig = plt.figure()\n",
    "ax = Axes3D(fig)\n",
    "for label in range(10):\n",
    "    x_train_tmp = x_train_emb3[y_train==label]\n",
    "    ax.scatter(x_train_tmp[:,0],x_train_tmp[:,1],alpha=0.75, label=label)\n",
    "ax.legend()\n",
    "plt.show()"
   ]
  },
  {
   "cell_type": "code",
   "execution_count": null,
   "metadata": {},
   "outputs": [],
   "source": []
  }
 ],
 "metadata": {
  "kernelspec": {
   "display_name": "Python 3",
   "language": "python",
   "name": "python3"
  },
  "language_info": {
   "codemirror_mode": {
    "name": "ipython",
    "version": 3
   },
   "file_extension": ".py",
   "mimetype": "text/x-python",
   "name": "python",
   "nbconvert_exporter": "python",
   "pygments_lexer": "ipython3",
   "version": "3.7.1"
  }
 },
 "nbformat": 4,
 "nbformat_minor": 2
}
