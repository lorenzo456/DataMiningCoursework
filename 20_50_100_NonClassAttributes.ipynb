{
 "cells": [
  {
   "cell_type": "code",
   "execution_count": 124,
   "metadata": {},
   "outputs": [],
   "source": [
    "import pandas as pd\n",
    "import numpy as np\n",
    "import cv2 as cv\n",
    "import matplotlib.pyplot as plt\n",
    "\n",
    "import sklearn\n",
    "from sklearn.metrics import accuracy_score\n",
    "from sklearn.model_selection import train_test_split\n",
    "from sklearn.naive_bayes import GaussianNB, BernoulliNB, MultinomialNB\n",
    "from sklearn.metrics import confusion_matrix, classification_report"
   ]
  },
  {
   "cell_type": "code",
   "execution_count": 2,
   "metadata": {},
   "outputs": [],
   "source": [
    "# Pre-processing methods for the dataset\n",
    "\n",
    "def get_array_of_matrix(dataset):\n",
    "    array_of_images = []\n",
    "    for row in dataset:\n",
    "        row = np.asarray(row)\n",
    "        matrix = np.reshape(row, (48, 48))\n",
    "        array_of_images.append(matrix)\n",
    "    return array_of_images\n",
    "\n",
    "\n",
    "def crop_dataset(dataset, row, clmn):\n",
    "    copped_dataset = []\n",
    "    for image in dataset:\n",
    "        y, x = image.shape\n",
    "        first_x = x//2-(row//2)\n",
    "        first_y = y//2-(clmn//2)\n",
    "        copped_dataset.append(image[first_y:first_y + clmn, first_x:first_x + row])\n",
    "    return copped_dataset\n",
    "\n",
    "\n",
    "def reshape_dataset(dataset):\n",
    "    reshaped_dataset = []\n",
    "    for image in dataset:\n",
    "        image = cv.resize(image, (48, 48)) # un po' bruttino\n",
    "        image = image.flatten()\n",
    "        reshaped_dataset.append(image)\n",
    "    # reshaped_dataset = np.reshape(reshaped_dataset, (12660, 2304)) # un po' bruttino\n",
    "    return reshaped_dataset\n",
    "\n",
    "\n",
    "def apply_adaptive_threshold(dataset):\n",
    "    dataset_with_filter = []\n",
    "    for image in dataset:\n",
    "        image = cv.adaptiveThreshold(image, 255, cv.ADAPTIVE_THRESH_GAUSSIAN_C, cv.THRESH_BINARY, 11, 2)\n",
    "        image = image.flatten()\n",
    "        dataset_with_filter.append(image)\n",
    "    dataset_with_filter = np.reshape(dataset_with_filter, (12660, 1600))\n",
    "    return dataset_with_filter"
   ]
  },
  {
   "cell_type": "code",
   "execution_count": 3,
   "metadata": {},
   "outputs": [],
   "source": [
    "x_train_gr_smpl = pd.read_csv(\"./datasets/x_train_gr_smpl.csv\", delimiter=\",\", dtype=np.uint8)\n",
    "y_train_smpl = pd.read_csv(\"./datasets/y_train_smpl.csv\", delimiter=\",\", dtype=np.uint8)"
   ]
  },
  {
   "cell_type": "code",
   "execution_count": 11,
   "metadata": {},
   "outputs": [],
   "source": [
    "dataset = np.asmatrix(x_train_gr_smpl)\n",
    "aom_dataset = get_array_of_matrix(dataset)\n",
    "cropped_dataset = crop_dataset(aom_dataset, 40, 40) # un po' bruttino\n",
    "#new_dataset = reshape_dataset(cropped_dataset)\n",
    "new_dataset = apply_adaptive_threshold(cropped_dataset)"
   ]
  },
  {
   "cell_type": "code",
   "execution_count": 12,
   "metadata": {},
   "outputs": [],
   "source": [
    "# add y_train_smpl to new_dataset ---KARAN\n",
    "dataset = np.append(new_dataset, y_train_smpl, axis=1)\n",
    "x = dataset[:, 0:1599]\n",
    "y = dataset[:, -1]\n",
    "X_train, X_test, y_train, y_test = train_test_split(x, y, test_size=.33, random_state=17)"
   ]
  },
  {
   "cell_type": "code",
   "execution_count": 13,
   "metadata": {},
   "outputs": [
    {
     "name": "stdout",
     "output_type": "stream",
     "text": [
      "GaussianNB(priors=None, var_smoothing=1e-09)\n",
      "0.829583532790809\n"
     ]
    }
   ],
   "source": [
    "# code for Naive Bayes algorithm\n",
    "# Gaussian\n",
    "GausNB = GaussianNB()\n",
    "GausNB.fit(X_train, y_train)\n",
    "print(GausNB)\n",
    "y_expect = y_test\n",
    "y_pred = GausNB.predict(X_test)\n",
    "print(accuracy_score(y_expect, y_pred))"
   ]
  },
  {
   "cell_type": "code",
   "execution_count": 14,
   "metadata": {},
   "outputs": [
    {
     "name": "stdout",
     "output_type": "stream",
     "text": [
      "BernoulliNB(alpha=1.0, binarize=0.0, class_prior=None, fit_prior=True)\n",
      "0.8128291048348492\n"
     ]
    }
   ],
   "source": [
    "BernNB = BernoulliNB()\n",
    "BernNB.fit(X_train, y_train)\n",
    "print(BernNB)\n",
    "y_expect = y_test\n",
    "y_pred = BernNB.predict(X_test)\n",
    "print(accuracy_score(y_expect, y_pred))"
   ]
  },
  {
   "cell_type": "code",
   "execution_count": 15,
   "metadata": {},
   "outputs": [
    {
     "name": "stdout",
     "output_type": "stream",
     "text": [
      "MultinomialNB(alpha=1.0, class_prior=None, fit_prior=True)\n",
      "0.8025370990904739\n",
      " \n",
      "Confusion matrix for MultiNom: \n",
      "[[217 156  57   0   1   0   0   1  15   0]\n",
      " [165 383  40   1   6   0   0   3   6   0]\n",
      " [ 20   7 109   0   2   0   0   0   2   0]\n",
      " [  2  47   0 394   6   0   0   0   5   0]\n",
      " [  6  88   0   0 572   4   0   6  11   2]\n",
      " [ 11  19   0   1  18 687   0   0   5   0]\n",
      " [  1   8   7   0   0   1 204   0  17   1]\n",
      " [  5   5   0   0   0   0   0  73   1   0]\n",
      " [  7  20  18   0   9   4   0   1 644   1]\n",
      " [  1   0   3   0   2   0   0   0   0  70]]\n"
     ]
    },
    {
     "data": {
      "image/png": "[encoded data removed]",
      "text/plain": [
       "<Figure size 432x288 with 1 Axes>"
      ]
     },
     "metadata": {
      "needs_background": "light"
     },
     "output_type": "display_data"
    },
    {
     "name": "stdout",
     "output_type": "stream",
     "text": [
      " \n",
      "Classification report for MultiNom: \n",
      "              precision    recall  f1-score   support\n",
      "\n",
      "           0       0.50      0.49      0.49       447\n",
      "           1       0.52      0.63      0.57       604\n",
      "           2       0.47      0.78      0.58       140\n",
      "           3       0.99      0.87      0.93       454\n",
      "           4       0.93      0.83      0.88       689\n",
      "           5       0.99      0.93      0.96       741\n",
      "           6       1.00      0.85      0.92       239\n",
      "           7       0.87      0.87      0.87        84\n",
      "           8       0.91      0.91      0.91       704\n",
      "           9       0.95      0.92      0.93        76\n",
      "\n",
      "   micro avg       0.80      0.80      0.80      4178\n",
      "   macro avg       0.81      0.81      0.80      4178\n",
      "weighted avg       0.83      0.80      0.81      4178\n",
      "\n"
     ]
    }
   ],
   "source": [
    "MultiNom = MultinomialNB()\n",
    "MultiNom.fit(X_train, y_train)\n",
    "print(MultiNom)\n",
    "y_expect = y_test\n",
    "y_pred = MultiNom.predict(X_test)\n",
    "print(accuracy_score(y_expect, y_pred))\n",
    "print(\" \")\n",
    "print(\"Confusion matrix for MultiNom: \")\n",
    "print(confusion_matrix(y_expect, y_pred))\n",
    "plt.imshow(confusion_matrix(y_expect, y_pred), cmap=\"Blues\")\n",
    "plt.show()\n",
    "print(\" \")\n",
    "print(\"Classification report for MultiNom: \")\n",
    "print(classification_report(y_expect, y_pred, [0, 1, 2, 3, 4, 5, 6, 7, 8, 9]))\n"
   ]
  },
  {
   "cell_type": "code",
   "execution_count": 16,
   "metadata": {},
   "outputs": [],
   "source": [
    "correlation_dict={0:[863,903,823,817,783,943,1179,581,541,1180],\\\n",
    "                  1:[818,659,699,1179,1180,541,1182,581,1181,1183],\\\n",
    "                  2:[1135,863,548,1134,823,1136,903,1192,1175,547],\\\n",
    "                  3:[821,861,862,781,822,902,901,1102,1101,820],\\\n",
    "                  4:[1142,946,906,1141,542,541,582,907,1382,1102],\\\n",
    "                  5:[980,1020,940,979,664,939,665,981,899,1019],\\\n",
    "                  6:[1148,1187,1185,1186,1149,1184,506,1142,505,1183],\\\n",
    "                  7:[814,821,862,822,861,774,813,773,815,781],\\\n",
    "                  8:[869,621,829,1262,785,872,873,833,832,662],\\\n",
    "                  9:[906,946,699,504,698,464,465,866,945,738]}"
   ]
  },
  {
   "cell_type": "code",
   "execution_count": 172,
   "metadata": {},
   "outputs": [],
   "source": [
    "top_2_cols = [values[:2] for values in correlation_dict.values()]\n",
    "top_2_cols = sorted(set([y for x in top_2_cols for y in x])) # Flatten & remove duplicates\n",
    "top_5_cols = [values[:5] for values in correlation_dict.values()]\n",
    "top_5_cols = sorted(set([y for x in top_5_cols for y in x])) # # Flatten & remove duplicates\n",
    "top_10_cols = [values[::] for values in correlation_dict.values()]\n",
    "top_10_cols = sorted(set([y for x in top_10_cols for y in x])) # # Flatten & remove duplicates"
   ]
  },
  {
   "cell_type": "code",
   "execution_count": 78,
   "metadata": {},
   "outputs": [],
   "source": [
    "# Create a pandas dataframe  \n",
    "dataframe = pd.DataFrame(data=dataset, index=None,columns=None,dtype=np.uint8, copy=False)"
   ]
  },
  {
   "cell_type": "markdown",
   "metadata": {},
   "source": [
    "## Top 2 "
   ]
  },
  {
   "cell_type": "code",
   "execution_count": 175,
   "metadata": {},
   "outputs": [],
   "source": [
    "top_2_df = dataframe.iloc[:,top_2_cols]"
   ]
  },
  {
   "cell_type": "code",
   "execution_count": 178,
   "metadata": {},
   "outputs": [],
   "source": [
    "x = top_2_df\n",
    "y = dataset[:, -1]\n",
    "X_train, X_test, y_train, y_test = train_test_split(x, y, test_size=.33, random_state=17)"
   ]
  },
  {
   "cell_type": "code",
   "execution_count": 179,
   "metadata": {},
   "outputs": [
    {
     "name": "stdout",
     "output_type": "stream",
     "text": [
      "GaussianNB(priors=None, var_smoothing=1e-09)\n",
      "0.7108664432742939\n"
     ]
    }
   ],
   "source": [
    "GausNB = GaussianNB()\n",
    "GausNB.fit(X_train, y_train)\n",
    "print(GausNB)\n",
    "y_expect = y_test\n",
    "y_pred = GausNB.predict(X_test)\n",
    "print(accuracy_score(y_expect, y_pred))"
   ]
  },
  {
   "cell_type": "code",
   "execution_count": 180,
   "metadata": {},
   "outputs": [
    {
     "name": "stdout",
     "output_type": "stream",
     "text": [
      "BernoulliNB(alpha=1.0, binarize=0.0, class_prior=None, fit_prior=True)\n",
      "0.7252273815222594\n"
     ]
    }
   ],
   "source": [
    "BernNB = BernoulliNB()\n",
    "BernNB.fit(X_train, y_train)\n",
    "print(BernNB)\n",
    "y_expect = y_test\n",
    "y_pred = BernNB.predict(X_test)\n",
    "print(accuracy_score(y_expect, y_pred))"
   ]
  },
  {
   "cell_type": "code",
   "execution_count": 181,
   "metadata": {},
   "outputs": [
    {
     "name": "stdout",
     "output_type": "stream",
     "text": [
      "MultinomialNB(alpha=1.0, class_prior=None, fit_prior=True)\n",
      "0.6775969363331737\n",
      " \n",
      "Confusion matrix for MultiNom: \n",
      "[[240  69  36   9  12  38   6  27   9   1]\n",
      " [127 247  53  27  18  28   6  42  50   6]\n",
      " [ 11   8  60   3   0   3   6  40   8   1]\n",
      " [ 13  19   4 392  11   2   1   8   3   1]\n",
      " [ 32  19   4   8 379  74   4  22  52  95]\n",
      " [  8  15   6   0  47 654   4   3   3   1]\n",
      " [  3   2   3   7   4   6 191   0  19   4]\n",
      " [  1   4   5   0   0   1   0  71   2   0]\n",
      " [ 26  23  14   6  30  37  23   6 529  10]\n",
      " [  0   1   0   0   1   3   0   0   3  68]]\n"
     ]
    },
    {
     "data": {
      "image/png": "[encoded data removed]",
      "text/plain": [
       "<Figure size 432x288 with 1 Axes>"
      ]
     },
     "metadata": {
      "needs_background": "light"
     },
     "output_type": "display_data"
    },
    {
     "name": "stdout",
     "output_type": "stream",
     "text": [
      " \n",
      "Classification report for MultiNom: \n",
      "              precision    recall  f1-score   support\n",
      "\n",
      "           0       0.52      0.54      0.53       447\n",
      "           1       0.61      0.41      0.49       604\n",
      "           2       0.32      0.43      0.37       140\n",
      "           3       0.87      0.86      0.87       454\n",
      "           4       0.75      0.55      0.64       689\n",
      "           5       0.77      0.88      0.82       741\n",
      "           6       0.79      0.80      0.80       239\n",
      "           7       0.32      0.85      0.47        84\n",
      "           8       0.78      0.75      0.77       704\n",
      "           9       0.36      0.89      0.52        76\n",
      "\n",
      "   micro avg       0.68      0.68      0.68      4178\n",
      "   macro avg       0.61      0.70      0.63      4178\n",
      "weighted avg       0.70      0.68      0.68      4178\n",
      "\n"
     ]
    }
   ],
   "source": [
    "MultiNom = MultinomialNB()\n",
    "MultiNom.fit(X_train, y_train)\n",
    "print(MultiNom)\n",
    "y_expect = y_test\n",
    "y_pred = MultiNom.predict(X_test)\n",
    "print(accuracy_score(y_expect, y_pred))\n",
    "print(\" \")\n",
    "print(\"Confusion matrix for MultiNom: \")\n",
    "print(confusion_matrix(y_expect, y_pred))\n",
    "plt.imshow(confusion_matrix(y_expect, y_pred), cmap=\"Blues\")\n",
    "plt.show()\n",
    "print(\" \")\n",
    "print(\"Classification report for MultiNom: \")\n",
    "print(classification_report(y_expect, y_pred, [0, 1, 2, 3, 4, 5, 6, 7, 8, 9]))"
   ]
  },
  {
   "cell_type": "markdown",
   "metadata": {},
   "source": [
    "## Top 5"
   ]
  },
  {
   "cell_type": "code",
   "execution_count": 182,
   "metadata": {},
   "outputs": [],
   "source": [
    "top_5_df = dataframe.iloc[:,top_5_cols]"
   ]
  },
  {
   "cell_type": "code",
   "execution_count": 183,
   "metadata": {},
   "outputs": [],
   "source": [
    "x = top_5_df\n",
    "y = dataset[:, -1]\n",
    "X_train, X_test, y_train, y_test = train_test_split(x, y, test_size=.33, random_state=17)"
   ]
  },
  {
   "cell_type": "code",
   "execution_count": 184,
   "metadata": {},
   "outputs": [
    {
     "name": "stdout",
     "output_type": "stream",
     "text": [
      "GaussianNB(priors=None, var_smoothing=1e-09)\n",
      "0.8118717089516515\n"
     ]
    }
   ],
   "source": [
    "GausNB = GaussianNB()\n",
    "GausNB.fit(X_train, y_train)\n",
    "print(GausNB)\n",
    "y_expect = y_test\n",
    "y_pred = GausNB.predict(X_test)\n",
    "print(accuracy_score(y_expect, y_pred))"
   ]
  },
  {
   "cell_type": "code",
   "execution_count": 185,
   "metadata": {},
   "outputs": [
    {
     "name": "stdout",
     "output_type": "stream",
     "text": [
      "BernoulliNB(alpha=1.0, binarize=0.0, class_prior=None, fit_prior=True)\n",
      "0.8192915270464337\n"
     ]
    }
   ],
   "source": [
    "BernNB = BernoulliNB()\n",
    "BernNB.fit(X_train, y_train)\n",
    "print(BernNB)\n",
    "y_expect = y_test\n",
    "y_pred = BernNB.predict(X_test)\n",
    "print(accuracy_score(y_expect, y_pred))"
   ]
  },
  {
   "cell_type": "code",
   "execution_count": 186,
   "metadata": {},
   "outputs": [
    {
     "name": "stdout",
     "output_type": "stream",
     "text": [
      "MultinomialNB(alpha=1.0, class_prior=None, fit_prior=True)\n",
      "0.7817137386309239\n",
      " \n",
      "Confusion matrix for MultiNom: \n",
      "[[317  68  15   7   2  19   1   8   9   1]\n",
      " [118 356  33  10  16  30   2  17  21   1]\n",
      " [ 12   9  78   0   2   1   0  35   3   0]\n",
      " [ 23  15   0 381  25   1   0   3   5   1]\n",
      " [ 24  41   9   3 511  32   0  22  41   6]\n",
      " [  1   7   0   1  16 710   0   1   5   0]\n",
      " [  1   0   0   1   2  14 211   0   7   3]\n",
      " [  1   8   4   0   0   1   0  70   0   0]\n",
      " [ 23  31  10   0  25  31  17   4 561   2]\n",
      " [  0   1   0   0   2   2   0   0   0  71]]\n"
     ]
    },
    {
     "data": {
      "image/png": "[encoded data removed]",
      "text/plain": [
       "<Figure size 432x288 with 1 Axes>"
      ]
     },
     "metadata": {
      "needs_background": "light"
     },
     "output_type": "display_data"
    },
    {
     "name": "stdout",
     "output_type": "stream",
     "text": [
      " \n",
      "Classification report for MultiNom: \n",
      "              precision    recall  f1-score   support\n",
      "\n",
      "           0       0.61      0.71      0.66       447\n",
      "           1       0.66      0.59      0.62       604\n",
      "           2       0.52      0.56      0.54       140\n",
      "           3       0.95      0.84      0.89       454\n",
      "           4       0.85      0.74      0.79       689\n",
      "           5       0.84      0.96      0.90       741\n",
      "           6       0.91      0.88      0.90       239\n",
      "           7       0.44      0.83      0.57        84\n",
      "           8       0.86      0.80      0.83       704\n",
      "           9       0.84      0.93      0.88        76\n",
      "\n",
      "   micro avg       0.78      0.78      0.78      4178\n",
      "   macro avg       0.75      0.78      0.76      4178\n",
      "weighted avg       0.79      0.78      0.78      4178\n",
      "\n"
     ]
    }
   ],
   "source": [
    "MultiNom = MultinomialNB()\n",
    "MultiNom.fit(X_train, y_train)\n",
    "print(MultiNom)\n",
    "y_expect = y_test\n",
    "y_pred = MultiNom.predict(X_test)\n",
    "print(accuracy_score(y_expect, y_pred))\n",
    "print(\" \")\n",
    "print(\"Confusion matrix for MultiNom: \")\n",
    "print(confusion_matrix(y_expect, y_pred))\n",
    "plt.imshow(confusion_matrix(y_expect, y_pred), cmap=\"Blues\")\n",
    "plt.show()\n",
    "print(\" \")\n",
    "print(\"Classification report for MultiNom: \")\n",
    "print(classification_report(y_expect, y_pred, [0, 1, 2, 3, 4, 5, 6, 7, 8, 9]))"
   ]
  },
  {
   "cell_type": "code",
   "execution_count": 187,
   "metadata": {},
   "outputs": [],
   "source": [
    "top_10_df = dataframe.iloc[:,top_10_cols]"
   ]
  },
  {
   "cell_type": "code",
   "execution_count": 188,
   "metadata": {},
   "outputs": [],
   "source": [
    "x = top_10_df\n",
    "y = dataset[:, -1]\n",
    "X_train, X_test, y_train, y_test = train_test_split(x, y, test_size=.33, random_state=17)"
   ]
  },
  {
   "cell_type": "code",
   "execution_count": 189,
   "metadata": {},
   "outputs": [
    {
     "name": "stdout",
     "output_type": "stream",
     "text": [
      "GaussianNB(priors=None, var_smoothing=1e-09)\n",
      "0.8475347056007659\n"
     ]
    }
   ],
   "source": [
    "GausNB = GaussianNB()\n",
    "GausNB.fit(X_train, y_train)\n",
    "print(GausNB)\n",
    "y_expect = y_test\n",
    "y_pred = GausNB.predict(X_test)\n",
    "print(accuracy_score(y_expect, y_pred))"
   ]
  },
  {
   "cell_type": "code",
   "execution_count": 190,
   "metadata": {},
   "outputs": [
    {
     "name": "stdout",
     "output_type": "stream",
     "text": [
      "BernoulliNB(alpha=1.0, binarize=0.0, class_prior=None, fit_prior=True)\n",
      "0.8549545236955481\n"
     ]
    }
   ],
   "source": [
    "BernNB = BernoulliNB()\n",
    "BernNB.fit(X_train, y_train)\n",
    "print(BernNB)\n",
    "y_expect = y_test\n",
    "y_pred = BernNB.predict(X_test)\n",
    "print(accuracy_score(y_expect, y_pred))"
   ]
  },
  {
   "cell_type": "code",
   "execution_count": 191,
   "metadata": {},
   "outputs": [
    {
     "name": "stdout",
     "output_type": "stream",
     "text": [
      "MultinomialNB(alpha=1.0, class_prior=None, fit_prior=True)\n",
      "0.8123504068932503\n",
      " \n",
      "Confusion matrix for MultiNom: \n",
      "[[316  85  23   0   2  13   0   2   5   1]\n",
      " [139 371  38   4   8  24   0   6  13   1]\n",
      " [  4   7  92   0   1   1   0  32   3   0]\n",
      " [ 16  13   0 397  18   1   0   2   7   0]\n",
      " [ 24  51   8   1 552  24   0  17  10   2]\n",
      " [  1   8   0   1  10 714   0   1   6   0]\n",
      " [  0   0   0   2   3  10 217   0   6   1]\n",
      " [  0   9   2   0   0   0   0  73   0   0]\n",
      " [ 10  33   3   1  18  37   9   2 590   1]\n",
      " [  1   0   0   0   2   1   0   0   0  72]]\n"
     ]
    },
    {
     "data": {
      "image/png": "[encoded data removed]",
      "text/plain": [
       "<Figure size 432x288 with 1 Axes>"
      ]
     },
     "metadata": {
      "needs_background": "light"
     },
     "output_type": "display_data"
    },
    {
     "name": "stdout",
     "output_type": "stream",
     "text": [
      " \n",
      "Classification report for MultiNom: \n",
      "              precision    recall  f1-score   support\n",
      "\n",
      "           0       0.62      0.71      0.66       447\n",
      "           1       0.64      0.61      0.63       604\n",
      "           2       0.55      0.66      0.60       140\n",
      "           3       0.98      0.87      0.92       454\n",
      "           4       0.90      0.80      0.85       689\n",
      "           5       0.87      0.96      0.91       741\n",
      "           6       0.96      0.91      0.93       239\n",
      "           7       0.54      0.87      0.67        84\n",
      "           8       0.92      0.84      0.88       704\n",
      "           9       0.92      0.95      0.94        76\n",
      "\n",
      "   micro avg       0.81      0.81      0.81      4178\n",
      "   macro avg       0.79      0.82      0.80      4178\n",
      "weighted avg       0.82      0.81      0.82      4178\n",
      "\n"
     ]
    }
   ],
   "source": [
    "MultiNom = MultinomialNB()\n",
    "MultiNom.fit(X_train, y_train)\n",
    "print(MultiNom)\n",
    "y_expect = y_test\n",
    "y_pred = MultiNom.predict(X_test)\n",
    "print(accuracy_score(y_expect, y_pred))\n",
    "print(\" \")\n",
    "print(\"Confusion matrix for MultiNom: \")\n",
    "print(confusion_matrix(y_expect, y_pred))\n",
    "plt.imshow(confusion_matrix(y_expect, y_pred), cmap=\"Blues\")\n",
    "plt.show()\n",
    "print(\" \")\n",
    "print(\"Classification report for MultiNom: \")\n",
    "print(classification_report(y_expect, y_pred, [0, 1, 2, 3, 4, 5, 6, 7, 8, 9]))"
   ]
  },
  {
   "cell_type": "code",
   "execution_count": null,
   "metadata": {},
   "outputs": [],
   "source": []
  }
 ],
 "metadata": {
  "kernelspec": {
   "display_name": "Python 3",
   "language": "python",
   "name": "python3"
  },
  "language_info": {
   "codemirror_mode": {
    "name": "ipython",
    "version": 3
   },
   "file_extension": ".py",
   "mimetype": "text/x-python",
   "name": "python",
   "nbconvert_exporter": "python",
   "pygments_lexer": "ipython3",
   "version": "3.7.1"
  }
 },
 "nbformat": 4,
 "nbformat_minor": 2
}
