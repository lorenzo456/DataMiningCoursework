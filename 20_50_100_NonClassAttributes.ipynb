{
 "cells": [
  {
   "cell_type": "code",
   "execution_count": 1,
   "metadata": {},
   "outputs": [],
   "source": [
    "import pandas as pd\n",
    "import numpy as np\n",
    "import cv2 as cv\n",
    "import matplotlib.pyplot as plt\n",
    "\n",
    "import sklearn\n",
    "from sklearn.metrics import accuracy_score\n",
    "from sklearn.model_selection import train_test_split\n",
    "from sklearn.naive_bayes import GaussianNB, BernoulliNB, MultinomialNB\n",
    "from sklearn.metrics import confusion_matrix, classification_report"
   ]
  },
  {
   "cell_type": "code",
   "execution_count": 2,
   "metadata": {},
   "outputs": [],
   "source": [
    "# Pre-processing methods for the dataset\n",
    "\n",
    "def get_array_of_matrix(dataset):\n",
    "    array_of_images = []\n",
    "    for row in dataset:\n",
    "        row = np.asarray(row)\n",
    "        matrix = np.reshape(row, (48, 48))\n",
    "        array_of_images.append(matrix)\n",
    "    return array_of_images\n",
    "\n",
    "\n",
    "def crop_dataset(dataset, row, clmn):\n",
    "    copped_dataset = []\n",
    "    for image in dataset:\n",
    "        y, x = image.shape\n",
    "        first_x = x//2-(row//2)\n",
    "        first_y = y//2-(clmn//2)\n",
    "        copped_dataset.append(image[first_y:first_y + clmn, first_x:first_x + row])\n",
    "    return copped_dataset\n",
    "\n",
    "\n",
    "def reshape_dataset(dataset):\n",
    "    reshaped_dataset = []\n",
    "    for image in dataset:\n",
    "        image = cv.resize(image, (48, 48)) # un po' bruttino\n",
    "        image = image.flatten()\n",
    "        reshaped_dataset.append(image)\n",
    "    # reshaped_dataset = np.reshape(reshaped_dataset, (12660, 2304)) # un po' bruttino\n",
    "    return reshaped_dataset\n",
    "\n",
    "\n",
    "def apply_adaptive_threshold(dataset):\n",
    "    dataset_with_filter = []\n",
    "    for image in dataset:\n",
    "        image = cv.adaptiveThreshold(image, 255, cv.ADAPTIVE_THRESH_GAUSSIAN_C, cv.THRESH_BINARY, 11, 2)\n",
    "        image = image.flatten()\n",
    "        dataset_with_filter.append(image)\n",
    "    dataset_with_filter = np.reshape(dataset_with_filter, (12660, 1600))\n",
    "    return dataset_with_filter"
   ]
  },
  {
   "cell_type": "code",
   "execution_count": 3,
   "metadata": {},
   "outputs": [],
   "source": [
    "x_train_gr_smpl = pd.read_csv(\"./datasets/x_train_gr_smpl.csv\", delimiter=\",\", dtype=np.uint8)\n",
    "y_train_smpl = pd.read_csv(\"./datasets/y_train_smpl.csv\", delimiter=\",\", dtype=np.uint8)"
   ]
  },
  {
   "cell_type": "code",
   "execution_count": 55,
   "metadata": {},
   "outputs": [],
   "source": [
    "dataset = np.asmatrix(x_train_gr_smpl)\n",
    "aom_dataset = get_array_of_matrix(dataset)\n",
    "cropped_dataset = crop_dataset(aom_dataset, 40, 40)\n",
    "#new_dataset = reshape_dataset(cropped_dataset)\n",
    "new_dataset = apply_adaptive_threshold(cropped_dataset)"
   ]
  },
  {
   "cell_type": "code",
   "execution_count": 5,
   "metadata": {},
   "outputs": [],
   "source": [
    "# add y_train_smpl to new_dataset ---KARAN\n",
    "dataset = np.append(new_dataset, y_train_smpl, axis=1)\n",
    "x = dataset[:, 0:1599]\n",
    "y = dataset[:, -1]\n",
    "X_train, X_test, y_train, y_test = train_test_split(x, y, test_size=.33, random_state=17)"
   ]
  },
  {
   "cell_type": "code",
   "execution_count": 34,
   "metadata": {},
   "outputs": [
    {
     "name": "stdout",
     "output_type": "stream",
     "text": [
      "GaussianNB(priors=None, var_smoothing=1e-09)\n",
      "0.8475347056007659\n",
      " \n",
      "Confusion matrix:\n",
      "[[324  78  21   0  12   2   3   2   4   1]\n",
      " [ 78 433  50   1  27   1   1   5   7   1]\n",
      " [  4  10 112   0   3   0   1   9   0   1]\n",
      " [  3  12   0 411  24   0   0   0   4   0]\n",
      " [  1  45   7   5 596  12   0   3  18   2]\n",
      " [  6  12   2   1  19 682   0   0  19   0]\n",
      " [  0   0   0   0   4   0 224   0   9   2]\n",
      " [  2   3   2   0   1   0   0  76   0   0]\n",
      " [  9  43   2   0  30   0   8   1 610   1]\n",
      " [  0   0   0   0   3   0   0   0   0  73]]\n",
      " \n",
      "Classification report:\n",
      "              precision    recall  f1-score   support\n",
      "\n",
      "           0       0.76      0.72      0.74       447\n",
      "           1       0.68      0.72      0.70       604\n",
      "           2       0.57      0.80      0.67       140\n",
      "           3       0.98      0.91      0.94       454\n",
      "           4       0.83      0.87      0.85       689\n",
      "           5       0.98      0.92      0.95       741\n",
      "           6       0.95      0.94      0.94       239\n",
      "           7       0.79      0.90      0.84        84\n",
      "           8       0.91      0.87      0.89       704\n",
      "           9       0.90      0.96      0.93        76\n",
      "\n",
      "   micro avg       0.85      0.85      0.85      4178\n",
      "   macro avg       0.83      0.86      0.84      4178\n",
      "weighted avg       0.86      0.85      0.85      4178\n",
      "\n"
     ]
    }
   ],
   "source": [
    "# code for Naive Bayes algorithm\n",
    "# Gaussian\n",
    "GausNB = GaussianNB()\n",
    "GausNB.fit(X_train, y_train)\n",
    "print(GausNB)\n",
    "y_expect = y_test\n",
    "y_pred = GausNB.predict(X_test)\n",
    "print(accuracy_score(y_expect, y_pred))\n",
    "print(\" \")\n",
    "print(\"Confusion matrix:\")\n",
    "print(confusion_matrix(y_expect, y_pred))\n",
    "print(\" \")\n",
    "print(\"Classification report:\")\n",
    "print(classification_report(y_expect, y_pred, [0, 1, 2, 3, 4, 5, 6, 7, 8, 9]))"
   ]
  },
  {
   "cell_type": "code",
   "execution_count": 7,
   "metadata": {},
   "outputs": [
    {
     "name": "stdout",
     "output_type": "stream",
     "text": [
      "BernoulliNB(alpha=1.0, binarize=0.0, class_prior=None, fit_prior=True)\n",
      "0.8128291048348492\n"
     ]
    }
   ],
   "source": [
    "BernNB = BernoulliNB()\n",
    "BernNB.fit(X_train, y_train)\n",
    "print(BernNB)\n",
    "y_expect = y_test\n",
    "y_pred = BernNB.predict(X_test)\n",
    "print(accuracy_score(y_expect, y_pred))"
   ]
  },
  {
   "cell_type": "code",
   "execution_count": 38,
   "metadata": {},
   "outputs": [
    {
     "name": "stdout",
     "output_type": "stream",
     "text": [
      "MultinomialNB(alpha=1.0, class_prior=None, fit_prior=True)\n",
      "0.8123504068932503\n"
     ]
    }
   ],
   "source": [
    "MultiNom = MultinomialNB()\n",
    "MultiNom.fit(X_train, y_train)\n",
    "print(MultiNom)\n",
    "y_expect = y_test\n",
    "y_pred = MultiNom.predict(X_test)\n",
    "print(accuracy_score(y_expect, y_pred))\n",
    "# print(\" \")\n",
    "# print(\"Confusion matrix for MultiNom: \")\n",
    "# print(confusion_matrix(y_expect, y_pred))\n",
    "# plt.imshow(confusion_matrix(y_expect, y_pred), cmap=\"Blues\")\n",
    "# plt.show()\n",
    "# print(\" \")\n",
    "# print(\"Classification report for MultiNom: \")\n",
    "# print(classification_report(y_expect, y_pred, [0, 1, 2, 3, 4, 5, 6, 7, 8, 9]))\n"
   ]
  },
  {
   "cell_type": "code",
   "execution_count": 9,
   "metadata": {},
   "outputs": [],
   "source": [
    "correlation_dict={0:[863,903,823,817,783,943,1179,581,541,1180],\\\n",
    "                  1:[818,659,699,1179,1180,541,1182,581,1181,1183],\\\n",
    "                  2:[1135,863,548,1134,823,1136,903,1192,1175,547],\\\n",
    "                  3:[821,861,862,781,822,902,901,1102,1101,820],\\\n",
    "                  4:[1142,946,906,1141,542,541,582,907,1382,1102],\\\n",
    "                  5:[980,1020,940,979,664,939,665,981,899,1019],\\\n",
    "                  6:[1148,1187,1185,1186,1149,1184,506,1142,505,1183],\\\n",
    "                  7:[814,821,862,822,861,774,813,773,815,781],\\\n",
    "                  8:[869,621,829,1262,785,872,873,833,832,662],\\\n",
    "                  9:[906,946,699,504,698,464,465,866,945,738]}"
   ]
  },
  {
   "cell_type": "code",
   "execution_count": 10,
   "metadata": {},
   "outputs": [],
   "source": [
    "top_2_cols = [values[:2] for values in correlation_dict.values()]\n",
    "top_2_cols = sorted(set([y for x in top_2_cols for y in x])) # Flatten & remove duplicates\n",
    "top_5_cols = [values[:5] for values in correlation_dict.values()]\n",
    "top_5_cols = sorted(set([y for x in top_5_cols for y in x])) # # Flatten & remove duplicates\n",
    "top_10_cols = [values[::] for values in correlation_dict.values()]\n",
    "top_10_cols = sorted(set([y for x in top_10_cols for y in x])) # # Flatten & remove duplicates"
   ]
  },
  {
   "cell_type": "code",
   "execution_count": 11,
   "metadata": {},
   "outputs": [],
   "source": [
    "# Create a pandas dataframe  \n",
    "dataframe = pd.DataFrame(data=dataset, index=None,columns=None,dtype=np.uint8, copy=False)"
   ]
  },
  {
   "cell_type": "markdown",
   "metadata": {},
   "source": [
    "## Top 2 "
   ]
  },
  {
   "cell_type": "code",
   "execution_count": 12,
   "metadata": {},
   "outputs": [],
   "source": [
    "top_2_df = dataframe.iloc[:,top_2_cols]"
   ]
  },
  {
   "cell_type": "code",
   "execution_count": 45,
   "metadata": {},
   "outputs": [],
   "source": [
    "x = top_2_df\n",
    "y = dataset[:, -1]\n",
    "X_train2, X_test2, y_train2, y_test2 = train_test_split(x, y, test_size=.33, random_state=17)"
   ]
  },
  {
   "cell_type": "code",
   "execution_count": 49,
   "metadata": {},
   "outputs": [
    {
     "name": "stdout",
     "output_type": "stream",
     "text": [
      "GaussianNB(priors=None, var_smoothing=1e-09)\n",
      "0.7108664432742939\n",
      " \n",
      "Confusion matrix:\n",
      "[[294  50  30   9  32   5  10   9   7   1]\n",
      " [148 273  49  22  36   3   6  23  40   4]\n",
      " [ 19  13  87   0   1   0   6  12   1   1]\n",
      " [  8  13   3 393  24   0   1   1  10   1]\n",
      " [ 22  30  15   5 362 139   6   3  40  67]\n",
      " [ 18   8   7   0  22 675   2   0   9   0]\n",
      " [  1   3   5   0   5   0 215   0   6   4]\n",
      " [  4   6   6   0   0   0   0  68   0   0]\n",
      " [ 12  35  26   5  31  24  23   2 544   2]\n",
      " [  0   1   1   0  13   1   0   0   1  59]]\n",
      " \n",
      "Classification report:\n",
      "              precision    recall  f1-score   support\n",
      "\n",
      "           0       0.56      0.66      0.60       447\n",
      "           1       0.63      0.45      0.53       604\n",
      "           2       0.38      0.62      0.47       140\n",
      "           3       0.91      0.87      0.89       454\n",
      "           4       0.69      0.53      0.60       689\n",
      "           5       0.80      0.91      0.85       741\n",
      "           6       0.80      0.90      0.85       239\n",
      "           7       0.58      0.81      0.67        84\n",
      "           8       0.83      0.77      0.80       704\n",
      "           9       0.42      0.78      0.55        76\n",
      "\n",
      "   micro avg       0.71      0.71      0.71      4178\n",
      "   macro avg       0.66      0.73      0.68      4178\n",
      "weighted avg       0.72      0.71      0.71      4178\n",
      "\n"
     ]
    }
   ],
   "source": [
    "GausNB = GaussianNB()\n",
    "GausNB.fit(X_train2, y_train2)\n",
    "print(GausNB)\n",
    "y_expect2 = y_test2\n",
    "y_pred2 = GausNB.predict(X_test2)\n",
    "\n",
    "print(accuracy_score(y_expect2, y_pred2))\n",
    "print(\" \")\n",
    "print(\"Confusion matrix:\")\n",
    "print(confusion_matrix(y_expect2, y_pred2))\n",
    "print(\" \")\n",
    "print(\"Classification report:\")\n",
    "print(classification_report(y_expect2, y_pred2, [0, 1, 2, 3, 4, 5, 6, 7, 8, 9]))"
   ]
  },
  {
   "cell_type": "code",
   "execution_count": 39,
   "metadata": {},
   "outputs": [
    {
     "name": "stdout",
     "output_type": "stream",
     "text": [
      "BernoulliNB(alpha=1.0, binarize=0.0, class_prior=None, fit_prior=True)\n",
      "0.8549545236955481\n"
     ]
    }
   ],
   "source": [
    "BernNB = BernoulliNB()\n",
    "BernNB.fit(X_train, y_train)\n",
    "print(BernNB)\n",
    "y_expect = y_test\n",
    "y_pred = BernNB.predict(X_test)\n",
    "print(accuracy_score(y_expect, y_pred))\n",
    "# print(\" \")\n",
    "# print(\"Classification report for MultiNom: \")\n",
    "# print(classification_report(y_expect, y_pred, [0, 1, 2, 3, 4, 5, 6, 7, 8, 9]))"
   ]
  },
  {
   "cell_type": "code",
   "execution_count": 40,
   "metadata": {},
   "outputs": [
    {
     "name": "stdout",
     "output_type": "stream",
     "text": [
      "MultinomialNB(alpha=1.0, class_prior=None, fit_prior=True)\n"
     ]
    }
   ],
   "source": [
    "MultiNom = MultinomialNB()\n",
    "MultiNom.fit(X_train, y_train)\n",
    "print(MultiNom)\n",
    "y_expect = y_test\n",
    "y_pred = MultiNom.predict(X_test)\n",
    "# print(accuracy_score(y_expect, y_pred))\n",
    "# print(\" \")\n",
    "# print(\"Confusion matrix for MultiNom: \")\n",
    "# print(confusion_matrix(y_expect, y_pred))\n",
    "# plt.imshow(confusion_matrix(y_expect, y_pred), cmap=\"Blues\")\n",
    "# plt.show()\n",
    "# print(\" \")\n",
    "# print(\"Classification report for MultiNom: \")\n",
    "# print(classification_report(y_expect, y_pred, [0, 1, 2, 3, 4, 5, 6, 7, 8, 9]))"
   ]
  },
  {
   "cell_type": "markdown",
   "metadata": {},
   "source": [
    "## Top 5"
   ]
  },
  {
   "cell_type": "code",
   "execution_count": 17,
   "metadata": {},
   "outputs": [],
   "source": [
    "top_5_df = dataframe.iloc[:,top_5_cols]"
   ]
  },
  {
   "cell_type": "code",
   "execution_count": 48,
   "metadata": {},
   "outputs": [],
   "source": [
    "x = top_5_df\n",
    "y = dataset[:, -1]\n",
    "X_train5, X_test5, y_train5, y_test5 = train_test_split(x, y, test_size=.33, random_state=17)"
   ]
  },
  {
   "cell_type": "code",
   "execution_count": 51,
   "metadata": {},
   "outputs": [
    {
     "name": "stdout",
     "output_type": "stream",
     "text": [
      "GaussianNB(priors=None, var_smoothing=1e-09)\n",
      "0.8118717089516515\n",
      " \n",
      "Confusion matrix:\n",
      "[[327  60  21   2  12   2   1  16   5   1]\n",
      " [ 99 377  51   5  24   1   2  21  21   3]\n",
      " [  8   8  94   0   3   0   1  23   3   0]\n",
      " [  6   6   0 401  34   0   0   0   5   2]\n",
      " [  5  43  14   3 563  24   1   3  29   4]\n",
      " [  5  10   2   1  23 680   0   0  18   2]\n",
      " [  0   0   0   0   2   0 225   0  11   1]\n",
      " [  3   6   4   0   2   0   0  69   0   0]\n",
      " [  9  47   3   2  40   1  17   0 584   1]\n",
      " [  0   0   0   1   2   0   0   0   1  72]]\n",
      " \n",
      "Classification report:\n",
      "              precision    recall  f1-score   support\n",
      "\n",
      "           0       0.71      0.73      0.72       447\n",
      "           1       0.68      0.62      0.65       604\n",
      "           2       0.50      0.67      0.57       140\n",
      "           3       0.97      0.88      0.92       454\n",
      "           4       0.80      0.82      0.81       689\n",
      "           5       0.96      0.92      0.94       741\n",
      "           6       0.91      0.94      0.93       239\n",
      "           7       0.52      0.82      0.64        84\n",
      "           8       0.86      0.83      0.85       704\n",
      "           9       0.84      0.95      0.89        76\n",
      "\n",
      "   micro avg       0.81      0.81      0.81      4178\n",
      "   macro avg       0.77      0.82      0.79      4178\n",
      "weighted avg       0.82      0.81      0.81      4178\n",
      "\n"
     ]
    }
   ],
   "source": [
    "GausNB = GaussianNB()\n",
    "GausNB.fit(X_train5, y_train5)\n",
    "print(GausNB)\n",
    "y_expect5 = y_test5\n",
    "y_pred5 = GausNB.predict(X_test5)\n",
    "print(accuracy_score(y_expect5, y_pred5))\n",
    "print(\" \")\n",
    "print(\"Confusion matrix:\")\n",
    "print(confusion_matrix(y_expect5, y_pred5))\n",
    "print(\" \")\n",
    "print(\"Classification report:\")\n",
    "print(classification_report(y_expect5, y_pred5, [0, 1, 2, 3, 4, 5, 6, 7, 8, 9]))"
   ]
  },
  {
   "cell_type": "code",
   "execution_count": 20,
   "metadata": {},
   "outputs": [
    {
     "name": "stdout",
     "output_type": "stream",
     "text": [
      "BernoulliNB(alpha=1.0, binarize=0.0, class_prior=None, fit_prior=True)\n",
      "0.8192915270464337\n"
     ]
    }
   ],
   "source": [
    "BernNB = BernoulliNB()\n",
    "BernNB.fit(X_train, y_train)\n",
    "print(BernNB)\n",
    "y_expect = y_test\n",
    "y_pred = BernNB.predict(X_test)\n",
    "print(accuracy_score(y_expect, y_pred))"
   ]
  },
  {
   "cell_type": "code",
   "execution_count": 41,
   "metadata": {},
   "outputs": [
    {
     "name": "stdout",
     "output_type": "stream",
     "text": [
      "MultinomialNB(alpha=1.0, class_prior=None, fit_prior=True)\n",
      "0.8123504068932503\n"
     ]
    }
   ],
   "source": [
    "MultiNom = MultinomialNB()\n",
    "MultiNom.fit(X_train, y_train)\n",
    "print(MultiNom)\n",
    "y_expect = y_test\n",
    "y_pred = MultiNom.predict(X_test)\n",
    "print(accuracy_score(y_expect, y_pred))\n",
    "# print(\" \")\n",
    "# print(\"Confusion matrix for MultiNom: \")\n",
    "# print(confusion_matrix(y_expect, y_pred))\n",
    "# plt.imshow(confusion_matrix(y_expect, y_pred), cmap=\"Blues\")\n",
    "# plt.show()\n",
    "# print(\" \")\n",
    "# print(\"Classification report for MultiNom: \")\n",
    "# print(classification_report(y_expect, y_pred, [0, 1, 2, 3, 4, 5, 6, 7, 8, 9]))"
   ]
  },
  {
   "cell_type": "code",
   "execution_count": 22,
   "metadata": {},
   "outputs": [],
   "source": [
    "top_10_df = dataframe.iloc[:,top_10_cols]"
   ]
  },
  {
   "cell_type": "code",
   "execution_count": 52,
   "metadata": {},
   "outputs": [],
   "source": [
    "x = top_10_df\n",
    "y = dataset[:, -1]\n",
    "X_train10, X_test10, y_train10, y_test10 = train_test_split(x, y, test_size=.33, random_state=17)"
   ]
  },
  {
   "cell_type": "code",
   "execution_count": 54,
   "metadata": {},
   "outputs": [
    {
     "name": "stdout",
     "output_type": "stream",
     "text": [
      "GaussianNB(priors=None, var_smoothing=1e-09)\n",
      "0.8475347056007659\n",
      " \n",
      "Confusion matrix:\n",
      "[[324  78  21   0  12   2   3   2   4   1]\n",
      " [ 78 433  50   1  27   1   1   5   7   1]\n",
      " [  4  10 112   0   3   0   1   9   0   1]\n",
      " [  3  12   0 411  24   0   0   0   4   0]\n",
      " [  1  45   7   5 596  12   0   3  18   2]\n",
      " [  6  12   2   1  19 682   0   0  19   0]\n",
      " [  0   0   0   0   4   0 224   0   9   2]\n",
      " [  2   3   2   0   1   0   0  76   0   0]\n",
      " [  9  43   2   0  30   0   8   1 610   1]\n",
      " [  0   0   0   0   3   0   0   0   0  73]]\n",
      " \n",
      "Classification report:\n",
      "              precision    recall  f1-score   support\n",
      "\n",
      "           0       0.76      0.72      0.74       447\n",
      "           1       0.68      0.72      0.70       604\n",
      "           2       0.57      0.80      0.67       140\n",
      "           3       0.98      0.91      0.94       454\n",
      "           4       0.83      0.87      0.85       689\n",
      "           5       0.98      0.92      0.95       741\n",
      "           6       0.95      0.94      0.94       239\n",
      "           7       0.79      0.90      0.84        84\n",
      "           8       0.91      0.87      0.89       704\n",
      "           9       0.90      0.96      0.93        76\n",
      "\n",
      "   micro avg       0.85      0.85      0.85      4178\n",
      "   macro avg       0.83      0.86      0.84      4178\n",
      "weighted avg       0.86      0.85      0.85      4178\n",
      "\n"
     ]
    }
   ],
   "source": [
    "GausNB = GaussianNB()\n",
    "GausNB.fit(X_train10, y_train10)\n",
    "print(GausNB)\n",
    "y_expect10 = y_test10\n",
    "y_pred10 = GausNB.predict(X_test10)\n",
    "print(accuracy_score(y_expect10, y_pred10))\n",
    "print(\" \")\n",
    "print(\"Confusion matrix:\")\n",
    "print(confusion_matrix(y_expect10, y_pred10))\n",
    "print(\" \")\n",
    "print(\"Classification report:\")\n",
    "print(classification_report(y_expect10, y_pred10, [0, 1, 2, 3, 4, 5, 6, 7, 8, 9]))"
   ]
  },
  {
   "cell_type": "code",
   "execution_count": 25,
   "metadata": {},
   "outputs": [
    {
     "name": "stdout",
     "output_type": "stream",
     "text": [
      "BernoulliNB(alpha=1.0, binarize=0.0, class_prior=None, fit_prior=True)\n",
      "0.8549545236955481\n"
     ]
    }
   ],
   "source": [
    "BernNB = BernoulliNB()\n",
    "BernNB.fit(X_train, y_train)\n",
    "print(BernNB)\n",
    "y_expect = y_test\n",
    "y_pred = BernNB.predict(X_test)\n",
    "print(accuracy_score(y_expect, y_pred))"
   ]
  },
  {
   "cell_type": "code",
   "execution_count": 42,
   "metadata": {},
   "outputs": [
    {
     "name": "stdout",
     "output_type": "stream",
     "text": [
      "MultinomialNB(alpha=1.0, class_prior=None, fit_prior=True)\n"
     ]
    }
   ],
   "source": [
    "MultiNom = MultinomialNB()\n",
    "MultiNom.fit(X_train, y_train)\n",
    "print(MultiNom)\n",
    "y_expect = y_test\n",
    "y_pred = MultiNom.predict(X_test)\n",
    "# print(accuracy_score(y_expect, y_pred))\n",
    "# print(\" \")\n",
    "# print(\"Confusion matrix for MultiNom: \")\n",
    "# print(confusion_matrix(y_expect, y_pred))\n",
    "# plt.imshow(confusion_matrix(y_expect, y_pred), cmap=\"Blues\")\n",
    "# plt.show()\n",
    "# print(\" \")\n",
    "# print(\"Classification report for MultiNom: \")\n",
    "# print(classification_report(y_expect, y_pred, [0, 1, 2, 3, 4, 5, 6, 7, 8, 9]))"
   ]
  },
  {
   "cell_type": "code",
   "execution_count": null,
   "metadata": {},
   "outputs": [],
   "source": []
  }
 ],
 "metadata": {
  "kernelspec": {
   "display_name": "Python 3",
   "language": "python",
   "name": "python3"
  },
  "language_info": {
   "codemirror_mode": {
    "name": "ipython",
    "version": 3
   },
   "file_extension": ".py",
   "mimetype": "text/x-python",
   "name": "python",
   "nbconvert_exporter": "python",
   "pygments_lexer": "ipython3",
   "version": "3.7.1"
  }
 },
 "nbformat": 4,
 "nbformat_minor": 2
}
