{
 "cells": [
  {
   "cell_type": "code",
   "execution_count": 1,
   "metadata": {},
   "outputs": [],
   "source": [
    "import pandas as pd\n",
    "import numpy as np\n",
    "import cv2 as cv\n",
    "import matplotlib.pyplot as plt\n",
    "\n",
    "import sklearn\n",
    "from sklearn.metrics import accuracy_score\n",
    "from sklearn.model_selection import train_test_split\n",
    "from sklearn.naive_bayes import GaussianNB, BernoulliNB, MultinomialNB\n",
    "from sklearn.metrics import confusion_matrix, classification_report\n"
   ]
  },
  {
   "cell_type": "code",
   "execution_count": 2,
   "metadata": {},
   "outputs": [],
   "source": [
    "# Pre-processing methods for the dataset\n",
    "\n",
    "def get_array_of_matrix(dataset):\n",
    "    array_of_images = []\n",
    "    for row in dataset:\n",
    "        row = np.asarray(row)\n",
    "        matrix = np.reshape(row, (48, 48))\n",
    "        array_of_images.append(matrix)\n",
    "    return array_of_images\n",
    "\n",
    "\n",
    "def crop_dataset(dataset, row, clmn):\n",
    "    copped_dataset = []\n",
    "    for image in dataset:\n",
    "        y, x = image.shape\n",
    "        first_x = x//2-(row//2)\n",
    "        first_y = y//2-(clmn//2)\n",
    "        copped_dataset.append(image[first_y:first_y + clmn, first_x:first_x + row])\n",
    "    return copped_dataset\n",
    "\n",
    "\n",
    "def reshape_dataset(dataset):\n",
    "    reshaped_dataset = []\n",
    "    for image in dataset:\n",
    "        image = cv.resize(image, (48, 48)) # un po' bruttino\n",
    "        image = image.flatten()\n",
    "        reshaped_dataset.append(image)\n",
    "    # reshaped_dataset = np.reshape(reshaped_dataset, (12660, 2304)) # un po' bruttino\n",
    "    return reshaped_dataset\n",
    "\n",
    "\n",
    "def apply_adaptive_threshold(dataset):\n",
    "    dataset_with_filter = []\n",
    "    for image in dataset:\n",
    "        image = cv.adaptiveThreshold(image, 255, cv.ADAPTIVE_THRESH_GAUSSIAN_C, cv.THRESH_BINARY, 11, 2)\n",
    "        image = image.flatten()\n",
    "        dataset_with_filter.append(image)\n",
    "    dataset_with_filter = np.reshape(dataset_with_filter, (12660, 1600))\n",
    "    return dataset_with_filter"
   ]
  },
  {
   "cell_type": "code",
   "execution_count": 3,
   "metadata": {},
   "outputs": [],
   "source": [
    "x_train_gr_smpl = pd.read_csv(\"./datasets/x_train_gr_smpl.csv\", delimiter=\",\", dtype=np.uint8)\n",
    "y_train_smpl = pd.read_csv(\"./datasets/y_train_smpl.csv\", delimiter=\",\", dtype=np.uint8)"
   ]
  },
  {
   "cell_type": "code",
   "execution_count": 4,
   "metadata": {},
   "outputs": [],
   "source": [
    "dataset = np.asmatrix(x_train_gr_smpl)\n",
    "aom_dataset = get_array_of_matrix(dataset)\n",
    "cropped_dataset = crop_dataset(aom_dataset, 40, 40) # un po' bruttino\n",
    "#new_dataset = reshape_dataset(cropped_dataset)\n",
    "new_dataset = apply_adaptive_threshold(cropped_dataset)"
   ]
  },
  {
   "cell_type": "code",
   "execution_count": 5,
   "metadata": {},
   "outputs": [],
   "source": [
    "# add y_train_smpl to new_dataset ---KARAN\n",
    "dataset = np.append(new_dataset, y_train_smpl, axis=1)\n",
    "x = dataset[:, 0:1599]\n",
    "y = dataset[:, -1]\n",
    "X_train, X_test, y_train, y_test = train_test_split(x, y, test_size=.33, random_state=17)"
   ]
  },
  {
   "cell_type": "code",
   "execution_count": 6,
   "metadata": {},
   "outputs": [
    {
     "name": "stdout",
     "output_type": "stream",
     "text": [
      "GaussianNB(priors=None, var_smoothing=1e-09)\n",
      "0.829583532790809\n"
     ]
    }
   ],
   "source": [
    "# code for Naive Bayes algorithm\n",
    "# Gaussian\n",
    "GausNB = GaussianNB()\n",
    "GausNB.fit(X_train, y_train)\n",
    "print(GausNB)\n",
    "y_expect = y_test\n",
    "y_pred = GausNB.predict(X_test)\n",
    "print(accuracy_score(y_expect, y_pred))"
   ]
  },
  {
   "cell_type": "code",
   "execution_count": 7,
   "metadata": {},
   "outputs": [
    {
     "name": "stdout",
     "output_type": "stream",
     "text": [
      "BernoulliNB(alpha=1.0, binarize=0.0, class_prior=None, fit_prior=True)\n",
      "0.8128291048348492\n"
     ]
    }
   ],
   "source": [
    "BernNB = BernoulliNB()\n",
    "BernNB.fit(X_train, y_train)\n",
    "print(BernNB)\n",
    "y_expect = y_test\n",
    "y_pred = BernNB.predict(X_test)\n",
    "print(accuracy_score(y_expect, y_pred))"
   ]
  },
  {
   "cell_type": "code",
   "execution_count": 8,
   "metadata": {},
   "outputs": [
    {
     "name": "stdout",
     "output_type": "stream",
     "text": [
      "MultinomialNB(alpha=1.0, class_prior=None, fit_prior=True)\n",
      "0.8025370990904739\n",
      " \n",
      "Confusion matrix for MultiNom: \n",
      "[[217 156  57   0   1   0   0   1  15   0]\n",
      " [165 383  40   1   6   0   0   3   6   0]\n",
      " [ 20   7 109   0   2   0   0   0   2   0]\n",
      " [  2  47   0 394   6   0   0   0   5   0]\n",
      " [  6  88   0   0 572   4   0   6  11   2]\n",
      " [ 11  19   0   1  18 687   0   0   5   0]\n",
      " [  1   8   7   0   0   1 204   0  17   1]\n",
      " [  5   5   0   0   0   0   0  73   1   0]\n",
      " [  7  20  18   0   9   4   0   1 644   1]\n",
      " [  1   0   3   0   2   0   0   0   0  70]]\n"
     ]
    },
    {
     "data": {
      "image/png": "[encoded data removed]",
      "text/plain": [
       "<Figure size 432x288 with 1 Axes>"
      ]
     },
     "metadata": {
      "needs_background": "light"
     },
     "output_type": "display_data"
    },
    {
     "name": "stdout",
     "output_type": "stream",
     "text": [
      " \n",
      "Classification report for MultiNom: \n",
      "              precision    recall  f1-score   support\n",
      "\n",
      "           0       0.50      0.49      0.49       447\n",
      "           1       0.52      0.63      0.57       604\n",
      "           2       0.47      0.78      0.58       140\n",
      "           3       0.99      0.87      0.93       454\n",
      "           4       0.93      0.83      0.88       689\n",
      "           5       0.99      0.93      0.96       741\n",
      "           6       1.00      0.85      0.92       239\n",
      "           7       0.87      0.87      0.87        84\n",
      "           8       0.91      0.91      0.91       704\n",
      "           9       0.95      0.92      0.93        76\n",
      "\n",
      "   micro avg       0.80      0.80      0.80      4178\n",
      "   macro avg       0.81      0.81      0.80      4178\n",
      "weighted avg       0.83      0.80      0.81      4178\n",
      "\n"
     ]
    }
   ],
   "source": [
    "MultiNom = MultinomialNB()\n",
    "MultiNom.fit(X_train, y_train)\n",
    "print(MultiNom)\n",
    "y_expect = y_test\n",
    "y_pred = MultiNom.predict(X_test)\n",
    "print(accuracy_score(y_expect, y_pred))\n",
    "print(\" \")\n",
    "print(\"Confusion matrix for MultiNom: \")\n",
    "print(confusion_matrix(y_expect, y_pred))\n",
    "plt.imshow(confusion_matrix(y_expect, y_pred), cmap=\"Blues\")\n",
    "plt.show()\n",
    "print(\" \")\n",
    "print(\"Classification report for MultiNom: \")\n",
    "print(classification_report(y_expect, y_pred, [0, 1, 2, 3, 4, 5, 6, 7, 8, 9]))\n"
   ]
  },
  {
   "cell_type": "code",
   "execution_count": 9,
   "metadata": {},
   "outputs": [],
   "source": [
    "correlation_dict={0:[863,903,823,817,783,943,1179,581,541,1180],\\\n",
    "                  1:[818,659,699,1179,1180,541,1182,581,1181,1183],\\\n",
    "                  2:[1135,863,548,1134,823,1136,903,1192,1175,547],\\\n",
    "                  3:[821,861,862,781,822,902,901,1102,1101,820],\\\n",
    "                  4:[1142,946,906,1141,542,541,582,907,1382,1102],\\\n",
    "                  5:[980,1020,940,979,664,939,665,981,899,1019],\\\n",
    "                  6:[1148,1187,1185,1186,1149,1184,506,1142,505,1183],\\\n",
    "                  7:[814,821,862,822,861,774,813,773,815,781],\\\n",
    "                  8:[869,621,829,1262,785,872,873,833,832,662],\\\n",
    "                  9:[906,946,699,504,698,464,465,866,945,738]}"
   ]
  },
  {
   "cell_type": "code",
   "execution_count": 10,
   "metadata": {},
   "outputs": [],
   "source": [
    "top_2_cols = [values[:2] for values in correlation_dict.values()]\n",
    "top_2_cols = sorted(set([y for x in top_2_cols for y in x])) # Flatten & remove duplicates\n",
    "top_5_cols = [values[:5] for values in correlation_dict.values()]\n",
    "top_5_cols = sorted(set([y for x in top_5_cols for y in x])) # # Flatten & remove duplicates\n",
    "top_10_cols = [values[::] for values in correlation_dict.values()]\n",
    "top_10_cols = sorted(set([y for x in top_10_cols for y in x])) # # Flatten & remove duplicates"
   ]
  },
  {
   "cell_type": "code",
   "execution_count": 11,
   "metadata": {},
   "outputs": [],
   "source": [
    "# Create a pandas dataframe  \n",
    "dataframe = pd.DataFrame(data=dataset, index=None,columns=None,dtype=np.uint8, copy=False)"
   ]
  },
  {
   "cell_type": "markdown",
   "metadata": {},
   "source": [
    "## Top 2 "
   ]
  },
  {
   "cell_type": "code",
   "execution_count": 12,
   "metadata": {},
   "outputs": [],
   "source": [
    "top_2_df = dataframe.iloc[:,top_2_cols]"
   ]
  },
  {
   "cell_type": "code",
   "execution_count": 13,
   "metadata": {},
   "outputs": [],
   "source": [
    "x = top_2_df\n",
    "y = dataset[:, -1]\n",
    "X_train, X_test, y_train, y_test = train_test_split(x, y, test_size=.33, random_state=17)"
   ]
  },
  {
   "cell_type": "code",
   "execution_count": 14,
   "metadata": {},
   "outputs": [
    {
     "name": "stdout",
     "output_type": "stream",
     "text": [
      "GaussianNB(priors=None, var_smoothing=1e-09)\n",
      "0.7108664432742939\n"
     ]
    }
   ],
   "source": [
    "GausNB = GaussianNB()\n",
    "GausNB.fit(X_train, y_train)\n",
    "print(GausNB)\n",
    "y_expect = y_test\n",
    "y_pred = GausNB.predict(X_test)\n",
    "print(accuracy_score(y_expect, y_pred))"
   ]
  },
  {
   "cell_type": "code",
   "execution_count": 15,
   "metadata": {},
   "outputs": [
    {
     "name": "stdout",
     "output_type": "stream",
     "text": [
      "BernoulliNB(alpha=1.0, binarize=0.0, class_prior=None, fit_prior=True)\n",
      "0.7252273815222594\n"
     ]
    }
   ],
   "source": [
    "BernNB = BernoulliNB()\n",
    "BernNB.fit(X_train, y_train)\n",
    "print(BernNB)\n",
    "y_expect = y_test\n",
    "y_pred = BernNB.predict(X_test)\n",
    "print(accuracy_score(y_expect, y_pred))"
   ]
  },
  {
   "cell_type": "code",
   "execution_count": 16,
   "metadata": {},
   "outputs": [
    {
     "name": "stdout",
     "output_type": "stream",
     "text": [
      "MultinomialNB(alpha=1.0, class_prior=None, fit_prior=True)\n",
      "0.6775969363331737\n",
      " \n",
      "Confusion matrix for MultiNom: \n",
      "[[240  69  36   9  12  38   6  27   9   1]\n",
      " [127 247  53  27  18  28   6  42  50   6]\n",
      " [ 11   8  60   3   0   3   6  40   8   1]\n",
      " [ 13  19   4 392  11   2   1   8   3   1]\n",
      " [ 32  19   4   8 379  74   4  22  52  95]\n",
      " [  8  15   6   0  47 654   4   3   3   1]\n",
      " [  3   2   3   7   4   6 191   0  19   4]\n",
      " [  1   4   5   0   0   1   0  71   2   0]\n",
      " [ 26  23  14   6  30  37  23   6 529  10]\n",
      " [  0   1   0   0   1   3   0   0   3  68]]\n"
     ]
    },
    {
     "data": {
      "image/png": "[encoded data removed]",
      "text/plain": [
       "<Figure size 432x288 with 1 Axes>"
      ]
     },
     "metadata": {
      "needs_background": "light"
     },
     "output_type": "display_data"
    },
    {
     "name": "stdout",
     "output_type": "stream",
     "text": [
      " \n",
      "Classification report for MultiNom: \n",
      "              precision    recall  f1-score   support\n",
      "\n",
      "           0       0.52      0.54      0.53       447\n",
      "           1       0.61      0.41      0.49       604\n",
      "           2       0.32      0.43      0.37       140\n",
      "           3       0.87      0.86      0.87       454\n",
      "           4       0.75      0.55      0.64       689\n",
      "           5       0.77      0.88      0.82       741\n",
      "           6       0.79      0.80      0.80       239\n",
      "           7       0.32      0.85      0.47        84\n",
      "           8       0.78      0.75      0.77       704\n",
      "           9       0.36      0.89      0.52        76\n",
      "\n",
      "   micro avg       0.68      0.68      0.68      4178\n",
      "   macro avg       0.61      0.70      0.63      4178\n",
      "weighted avg       0.70      0.68      0.68      4178\n",
      "\n"
     ]
    }
   ],
   "source": [
    "MultiNom = MultinomialNB()\n",
    "MultiNom.fit(X_train, y_train)\n",
    "print(MultiNom)\n",
    "y_expect = y_test\n",
    "y_pred = MultiNom.predict(X_test)\n",
    "print(accuracy_score(y_expect, y_pred))\n",
    "print(\" \")\n",
    "print(\"Confusion matrix for MultiNom: \")\n",
    "print(confusion_matrix(y_expect, y_pred))\n",
    "plt.imshow(confusion_matrix(y_expect, y_pred), cmap=\"Blues\")\n",
    "plt.show()\n",
    "print(\" \")\n",
    "print(\"Classification report for MultiNom: \")\n",
    "print(classification_report(y_expect, y_pred, [0, 1, 2, 3, 4, 5, 6, 7, 8, 9]))"
   ]
  },
  {
   "cell_type": "markdown",
   "metadata": {},
   "source": [
    "## Top 5"
   ]
  },
  {
   "cell_type": "code",
   "execution_count": 17,
   "metadata": {},
   "outputs": [],
   "source": [
    "top_5_df = dataframe.iloc[:,top_5_cols]"
   ]
  },
  {
   "cell_type": "code",
   "execution_count": 18,
   "metadata": {},
   "outputs": [],
   "source": [
    "x = top_5_df\n",
    "y = dataset[:, -1]\n",
    "X_train, X_test, y_train, y_test = train_test_split(x, y, test_size=.33, random_state=17)"
   ]
  },
  {
   "cell_type": "code",
   "execution_count": 19,
   "metadata": {},
   "outputs": [
    {
     "name": "stdout",
     "output_type": "stream",
     "text": [
      "GaussianNB(priors=None, var_smoothing=1e-09)\n",
      "0.8118717089516515\n"
     ]
    }
   ],
   "source": [
    "GausNB = GaussianNB()\n",
    "GausNB.fit(X_train, y_train)\n",
    "print(GausNB)\n",
    "y_expect = y_test\n",
    "y_pred = GausNB.predict(X_test)\n",
    "print(accuracy_score(y_expect, y_pred))"
   ]
  },
  {
   "cell_type": "code",
   "execution_count": 20,
   "metadata": {},
   "outputs": [
    {
     "name": "stdout",
     "output_type": "stream",
     "text": [
      "BernoulliNB(alpha=1.0, binarize=0.0, class_prior=None, fit_prior=True)\n",
      "0.8192915270464337\n"
     ]
    }
   ],
   "source": [
    "BernNB = BernoulliNB()\n",
    "BernNB.fit(X_train, y_train)\n",
    "print(BernNB)\n",
    "y_expect = y_test\n",
    "y_pred = BernNB.predict(X_test)\n",
    "print(accuracy_score(y_expect, y_pred))"
   ]
  },
  {
   "cell_type": "code",
   "execution_count": 21,
   "metadata": {},
   "outputs": [
    {
     "name": "stdout",
     "output_type": "stream",
     "text": [
      "MultinomialNB(alpha=1.0, class_prior=None, fit_prior=True)\n",
      "0.7817137386309239\n",
      " \n",
      "Confusion matrix for MultiNom: \n",
      "[[317  68  15   7   2  19   1   8   9   1]\n",
      " [118 356  33  10  16  30   2  17  21   1]\n",
      " [ 12   9  78   0   2   1   0  35   3   0]\n",
      " [ 23  15   0 381  25   1   0   3   5   1]\n",
      " [ 24  41   9   3 511  32   0  22  41   6]\n",
      " [  1   7   0   1  16 710   0   1   5   0]\n",
      " [  1   0   0   1   2  14 211   0   7   3]\n",
      " [  1   8   4   0   0   1   0  70   0   0]\n",
      " [ 23  31  10   0  25  31  17   4 561   2]\n",
      " [  0   1   0   0   2   2   0   0   0  71]]\n"
     ]
    },
    {
     "data": {
      "image/png": "[encoded data removed]",
      "text/plain": [
       "<Figure size 432x288 with 1 Axes>"
      ]
     },
     "metadata": {
      "needs_background": "light"
     },
     "output_type": "display_data"
    },
    {
     "name": "stdout",
     "output_type": "stream",
     "text": [
      " \n",
      "Classification report for MultiNom: \n",
      "              precision    recall  f1-score   support\n",
      "\n",
      "           0       0.61      0.71      0.66       447\n",
      "           1       0.66      0.59      0.62       604\n",
      "           2       0.52      0.56      0.54       140\n",
      "           3       0.95      0.84      0.89       454\n",
      "           4       0.85      0.74      0.79       689\n",
      "           5       0.84      0.96      0.90       741\n",
      "           6       0.91      0.88      0.90       239\n",
      "           7       0.44      0.83      0.57        84\n",
      "           8       0.86      0.80      0.83       704\n",
      "           9       0.84      0.93      0.88        76\n",
      "\n",
      "   micro avg       0.78      0.78      0.78      4178\n",
      "   macro avg       0.75      0.78      0.76      4178\n",
      "weighted avg       0.79      0.78      0.78      4178\n",
      "\n"
     ]
    }
   ],
   "source": [
    "MultiNom = MultinomialNB()\n",
    "MultiNom.fit(X_train, y_train)\n",
    "print(MultiNom)\n",
    "y_expect = y_test\n",
    "y_pred = MultiNom.predict(X_test)\n",
    "print(accuracy_score(y_expect, y_pred))\n",
    "print(\" \")\n",
    "print(\"Confusion matrix for MultiNom: \")\n",
    "print(confusion_matrix(y_expect, y_pred))\n",
    "plt.imshow(confusion_matrix(y_expect, y_pred), cmap=\"Blues\")\n",
    "plt.show()\n",
    "print(\" \")\n",
    "print(\"Classification report for MultiNom: \")\n",
    "print(classification_report(y_expect, y_pred, [0, 1, 2, 3, 4, 5, 6, 7, 8, 9]))"
   ]
  },
  {
   "cell_type": "code",
   "execution_count": 22,
   "metadata": {},
   "outputs": [],
   "source": [
    "top_10_df = dataframe.iloc[:,top_10_cols]"
   ]
  },
  {
   "cell_type": "code",
   "execution_count": 23,
   "metadata": {},
   "outputs": [],
   "source": [
    "x = top_10_df\n",
    "y = dataset[:, -1]\n",
    "X_train, X_test, y_train, y_test = train_test_split(x, y, test_size=.33, random_state=17)"
   ]
  },
  {
   "cell_type": "code",
   "execution_count": 24,
   "metadata": {},
   "outputs": [
    {
     "name": "stdout",
     "output_type": "stream",
     "text": [
      "GaussianNB(priors=None, var_smoothing=1e-09)\n",
      "0.8475347056007659\n"
     ]
    }
   ],
   "source": [
    "GausNB = GaussianNB()\n",
    "GausNB.fit(X_train, y_train)\n",
    "print(GausNB)\n",
    "y_expect = y_test\n",
    "y_pred = GausNB.predict(X_test)\n",
    "print(accuracy_score(y_expect, y_pred))"
   ]
  },
  {
   "cell_type": "code",
   "execution_count": 25,
   "metadata": {},
   "outputs": [
    {
     "name": "stdout",
     "output_type": "stream",
     "text": [
      "BernoulliNB(alpha=1.0, binarize=0.0, class_prior=None, fit_prior=True)\n",
      "0.8549545236955481\n"
     ]
    }
   ],
   "source": [
    "BernNB = BernoulliNB()\n",
    "BernNB.fit(X_train, y_train)\n",
    "print(BernNB)\n",
    "y_expect = y_test\n",
    "y_pred = BernNB.predict(X_test)\n",
    "print(accuracy_score(y_expect, y_pred))"
   ]
  },
  {
   "cell_type": "code",
   "execution_count": 26,
   "metadata": {},
   "outputs": [
    {
     "name": "stdout",
     "output_type": "stream",
     "text": [
      "MultinomialNB(alpha=1.0, class_prior=None, fit_prior=True)\n",
      "0.8123504068932503\n",
      " \n",
      "Confusion matrix for MultiNom: \n",
      "[[316  85  23   0   2  13   0   2   5   1]\n",
      " [139 371  38   4   8  24   0   6  13   1]\n",
      " [  4   7  92   0   1   1   0  32   3   0]\n",
      " [ 16  13   0 397  18   1   0   2   7   0]\n",
      " [ 24  51   8   1 552  24   0  17  10   2]\n",
      " [  1   8   0   1  10 714   0   1   6   0]\n",
      " [  0   0   0   2   3  10 217   0   6   1]\n",
      " [  0   9   2   0   0   0   0  73   0   0]\n",
      " [ 10  33   3   1  18  37   9   2 590   1]\n",
      " [  1   0   0   0   2   1   0   0   0  72]]\n"
     ]
    },
    {
     "data": {
      "image/png": "[encoded data removed]",
      "text/plain": [
       "<Figure size 432x288 with 1 Axes>"
      ]
     },
     "metadata": {
      "needs_background": "light"
     },
     "output_type": "display_data"
    },
    {
     "name": "stdout",
     "output_type": "stream",
     "text": [
      " \n",
      "Classification report for MultiNom: \n",
      "              precision    recall  f1-score   support\n",
      "\n",
      "           0       0.62      0.71      0.66       447\n",
      "           1       0.64      0.61      0.63       604\n",
      "           2       0.55      0.66      0.60       140\n",
      "           3       0.98      0.87      0.92       454\n",
      "           4       0.90      0.80      0.85       689\n",
      "           5       0.87      0.96      0.91       741\n",
      "           6       0.96      0.91      0.93       239\n",
      "           7       0.54      0.87      0.67        84\n",
      "           8       0.92      0.84      0.88       704\n",
      "           9       0.92      0.95      0.94        76\n",
      "\n",
      "   micro avg       0.81      0.81      0.81      4178\n",
      "   macro avg       0.79      0.82      0.80      4178\n",
      "weighted avg       0.82      0.81      0.82      4178\n",
      "\n"
     ]
    }
   ],
   "source": [
    "MultiNom = MultinomialNB()\n",
    "MultiNom.fit(X_train, y_train)\n",
    "print(MultiNom)\n",
    "y_expect = y_test\n",
    "y_pred = MultiNom.predict(X_test)\n",
    "print(accuracy_score(y_expect, y_pred))\n",
    "print(\" \")\n",
    "print(\"Confusion matrix for MultiNom: \")\n",
    "print(confusion_matrix(y_expect, y_pred))\n",
    "plt.imshow(confusion_matrix(y_expect, y_pred), cmap=\"Blues\")\n",
    "plt.show()\n",
    "print(\" \")\n",
    "print(\"Classification report for MultiNom: \")\n",
    "print(classification_report(y_expect, y_pred, [0, 1, 2, 3, 4, 5, 6, 7, 8, 9]))"
   ]
  },
  {
   "cell_type": "markdown",
   "metadata": {},
   "source": [
    "\n",
    "# Clustering"
   ]
  },
  {
   "cell_type": "markdown",
   "metadata": {},
   "source": [
    "Source: udemy.com"
   ]
  },
  {
   "cell_type": "code",
   "execution_count": 27,
   "metadata": {},
   "outputs": [],
   "source": [
    "from sklearn.preprocessing import StandardScaler"
   ]
  },
  {
   "cell_type": "code",
   "execution_count": 28,
   "metadata": {},
   "outputs": [],
   "source": [
    "scaler = StandardScaler()"
   ]
  },
  {
   "cell_type": "code",
   "execution_count": 29,
   "metadata": {},
   "outputs": [
    {
     "name": "stderr",
     "output_type": "stream",
     "text": [
      "C:\\Users\\singh\\Anaconda3\\lib\\site-packages\\sklearn\\preprocessing\\data.py:625: DataConversionWarning: Data with input dtype uint8 were all converted to float64 by StandardScaler.\n",
      "  return self.partial_fit(X, y)\n",
      "C:\\Users\\singh\\Anaconda3\\lib\\site-packages\\ipykernel_launcher.py:3: DataConversionWarning: Data with input dtype uint8 were all converted to float64 by StandardScaler.\n",
      "  This is separate from the ipykernel package so we can avoid doing imports until\n"
     ]
    }
   ],
   "source": [
    "dataframe.rename(columns ={1600:\"Label\"}, inplace =True) #Renaming the last column as \"Label\"\n",
    "scaler.fit(dataframe.drop(\"Label\", axis=1))# Fit the data to all columns except Labels\n",
    "scaled_features = scaler.transform(dataframe.drop(\"Label\", axis=1))\n",
    "df_feat = pd.DataFrame(scaled_features,columns=dataframe.columns[:-1])"
   ]
  },
  {
   "cell_type": "code",
   "execution_count": 30,
   "metadata": {},
   "outputs": [],
   "source": [
    "X = df_feat\n",
    "y = dataframe[\"Label\"]\n",
    "\n",
    "X_train, X_test, y_train, y_test = train_test_split(X, y, test_size=0.3, random_state=42)"
   ]
  },
  {
   "cell_type": "code",
   "execution_count": 31,
   "metadata": {},
   "outputs": [],
   "source": [
    "from sklearn.neighbors import KNeighborsClassifier"
   ]
  },
  {
   "cell_type": "code",
   "execution_count": 32,
   "metadata": {},
   "outputs": [
    {
     "data": {
      "text/plain": [
       "KNeighborsClassifier(algorithm='auto', leaf_size=30, metric='minkowski',\n",
       "           metric_params=None, n_jobs=None, n_neighbors=10, p=2,\n",
       "           weights='uniform')"
      ]
     },
     "execution_count": 32,
     "metadata": {},
     "output_type": "execute_result"
    }
   ],
   "source": [
    "knn = KNeighborsClassifier(n_neighbors=10)\n",
    "knn.fit(X_train,y_train)"
   ]
  },
  {
   "cell_type": "code",
   "execution_count": 33,
   "metadata": {},
   "outputs": [],
   "source": [
    "pred = knn.predict(X_test)"
   ]
  },
  {
   "cell_type": "code",
   "execution_count": 34,
   "metadata": {},
   "outputs": [
    {
     "name": "stdout",
     "output_type": "stream",
     "text": [
      "[[355  61   0   0   0   3   0   0   0   0]\n",
      " [ 80 479   0   0   0   4   0   0   1   0]\n",
      " [  1   2 125   0   0   1   0   2   0   0]\n",
      " [  9   1   0 393   1   1   0   0   0   0]\n",
      " [  5   1   0   0 622   1   0   0   1   0]\n",
      " [  2   0   0   0   0 675   0   0   0   0]\n",
      " [  1   1   1   0   0   0 233   0   1   0]\n",
      " [  6   4   1   0   0   0   0  53   0   0]\n",
      " [ 18   4   0   0   0   4   0   0 545   0]\n",
      " [  1   0   0   0   0   0   0   0   0  99]]\n",
      "              precision    recall  f1-score   support\n",
      "\n",
      "           0       0.74      0.85      0.79       419\n",
      "           1       0.87      0.85      0.86       564\n",
      "           2       0.98      0.95      0.97       131\n",
      "           3       1.00      0.97      0.98       405\n",
      "           4       1.00      0.99      0.99       630\n",
      "           5       0.98      1.00      0.99       677\n",
      "           6       1.00      0.98      0.99       237\n",
      "           7       0.96      0.83      0.89        64\n",
      "           8       0.99      0.95      0.97       571\n",
      "           9       1.00      0.99      0.99       100\n",
      "\n",
      "   micro avg       0.94      0.94      0.94      3798\n",
      "   macro avg       0.95      0.94      0.94      3798\n",
      "weighted avg       0.95      0.94      0.94      3798\n",
      "\n"
     ]
    }
   ],
   "source": [
    "print(confusion_matrix(y_test,pred))\n",
    "print(classification_report(y_test,pred))"
   ]
  },
  {
   "cell_type": "code",
   "execution_count": 35,
   "metadata": {},
   "outputs": [
    {
     "name": "stdout",
     "output_type": "stream",
     "text": [
      "[[359  58   0   0   0   2   0   0   0   0]\n",
      " [ 60 502   0   1   0   1   0   0   0   0]\n",
      " [  2   1 127   0   0   1   0   0   0   0]\n",
      " [  6   0   0 397   1   0   0   0   1   0]\n",
      " [  0   0   0   0 627   2   1   0   0   0]\n",
      " [  1   0   0   0   0 676   0   0   0   0]\n",
      " [  0   0   1   0   0   0 236   0   0   0]\n",
      " [  2   0   0   0   0   0   0  62   0   0]\n",
      " [  9   3   0   0   0   0   0   0 559   0]\n",
      " [  0   1   0   0   0   0   0   0   0  99]]\n",
      "              precision    recall  f1-score   support\n",
      "\n",
      "           0       0.82      0.86      0.84       419\n",
      "           1       0.89      0.89      0.89       564\n",
      "           2       0.99      0.97      0.98       131\n",
      "           3       1.00      0.98      0.99       405\n",
      "           4       1.00      1.00      1.00       630\n",
      "           5       0.99      1.00      0.99       677\n",
      "           6       1.00      1.00      1.00       237\n",
      "           7       1.00      0.97      0.98        64\n",
      "           8       1.00      0.98      0.99       571\n",
      "           9       1.00      0.99      0.99       100\n",
      "\n",
      "   micro avg       0.96      0.96      0.96      3798\n",
      "   macro avg       0.97      0.96      0.97      3798\n",
      "weighted avg       0.96      0.96      0.96      3798\n",
      "\n"
     ]
    }
   ],
   "source": [
    "knn2 = KNeighborsClassifier(n_neighbors=1)# Only 1 cluster\n",
    "knn2.fit(X_train,y_train)\n",
    "pred2 = knn2.predict(X_test)\n",
    "print(confusion_matrix(y_test,pred2))\n",
    "print(classification_report(y_test,pred2))"
   ]
  },
  {
   "cell_type": "code",
   "execution_count": null,
   "metadata": {},
   "outputs": [],
   "source": []
  },
  {
   "cell_type": "code",
   "execution_count": null,
   "metadata": {},
   "outputs": [],
   "source": []
  },
  {
   "cell_type": "markdown",
   "metadata": {},
   "source": [
    "#### Varying the clusters"
   ]
  },
  {
   "cell_type": "code",
   "execution_count": 36,
   "metadata": {},
   "outputs": [],
   "source": [
    "# error_rate =[]\n",
    "\n",
    "# for i in range(1,20):\n",
    "#     knn=KNeighborsClassifier(n_neighbors=i)\n",
    "#     knn.fit(X_train,y_train)\n",
    "#     pred_i = knn.predict(X_test)\n",
    "#     error_rate.append(np.mean(pred_i != y_test)) #Average predictions not equal to test values"
   ]
  },
  {
   "cell_type": "code",
   "execution_count": 37,
   "metadata": {},
   "outputs": [],
   "source": [
    "# plt.figure(figsize=(4,4))\n",
    "# plt.plot(range(1,20),error_rate,color=\"blue\",linestyle='dashed',marker=\"o\",markerfacecolor=\"red\",markersize=10)\n",
    "# plt.title(\"Error rate vs K-Value\")\n",
    "# plt.xlabel(\"K\")\n",
    "# plt.ylabel(\"Error Rate\")"
   ]
  },
  {
   "cell_type": "code",
   "execution_count": 38,
   "metadata": {},
   "outputs": [],
   "source": [
    "from sklearn.manifold import TSNE"
   ]
  },
  {
   "cell_type": "code",
   "execution_count": 50,
   "metadata": {},
   "outputs": [],
   "source": [
    "x_train_emb3 = TSNE(n_components=3, perplexity=35).fit_transform(X_train)"
   ]
  },
  {
   "cell_type": "code",
   "execution_count": 51,
   "metadata": {},
   "outputs": [
    {
     "name": "stdout",
     "output_type": "stream",
     "text": [
      "(8862, 3)\n"
     ]
    }
   ],
   "source": [
    "print(x_train_emb3.shape)"
   ]
  },
  {
   "cell_type": "code",
   "execution_count": 48,
   "metadata": {},
   "outputs": [],
   "source": [
    "from mpl_toolkits.mplot3d import Axes3D\n",
    "%matplotlib notebook"
   ]
  },
  {
   "cell_type": "code",
   "execution_count": 52,
   "metadata": {},
   "outputs": [
    {
     "data": {
      "application/javascript": [
       "/* Put everything inside the global mpl namespace */\n",
       "window.mpl = {};\n",
       "\n",
       "\n",
       "mpl.get_websocket_type = function() {\n",
       "    if (typeof(WebSocket) !== 'undefined') {\n",
       "        return WebSocket;\n",
       "    } else if (typeof(MozWebSocket) !== 'undefined') {\n",
       "        return MozWebSocket;\n",
       "    } else {\n",
       "        alert('Your browser does not have WebSocket support.' +\n",
       "              'Please try Chrome, Safari or Firefox ≥ 6. ' +\n",
       "              'Firefox 4 and 5 are also supported but you ' +\n",
       "              'have to enable WebSockets in about:config.');\n",
       "    };\n",
       "}\n",
       "\n",
       "mpl.figure = function(figure_id, websocket, ondownload, parent_element) {\n",
       "    this.id = figure_id;\n",
       "\n",
       "    this.ws = websocket;\n",
       "\n",
       "    this.supports_binary = (this.ws.binaryType != undefined);\n",
       "\n",
       "    if (!this.supports_binary) {\n",
       "        var warnings = document.getElementById(\"mpl-warnings\");\n",
       "        if (warnings) {\n",
       "            warnings.style.display = 'block';\n",
       "            warnings.textContent = (\n",
       "                \"This browser does not support binary websocket messages. \" +\n",
       "                    \"Performance may be slow.\");\n",
       "        }\n",
       "    }\n",
       "\n",
       "    this.imageObj = new Image();\n",
       "\n",
       "    this.context = undefined;\n",
       "    this.message = undefined;\n",
       "    this.canvas = undefined;\n",
       "    this.rubberband_canvas = undefined;\n",
       "    this.rubberband_context = undefined;\n",
       "    this.format_dropdown = undefined;\n",
       "\n",
       "    this.image_mode = 'full';\n",
       "\n",
       "    this.root = $('<div/>');\n",
       "    this._root_extra_style(this.root)\n",
       "    this.root.attr('style', 'display: inline-block');\n",
       "\n",
       "    $(parent_element).append(this.root);\n",
       "\n",
       "    this._init_header(this);\n",
       "    this._init_canvas(this);\n",
       "    this._init_toolbar(this);\n",
       "\n",
       "    var fig = this;\n",
       "\n",
       "    this.waiting = false;\n",
       "\n",
       "    this.ws.onopen =  function () {\n",
       "            fig.send_message(\"supports_binary\", {value: fig.supports_binary});\n",
       "            fig.send_message(\"send_image_mode\", {});\n",
       "            if (mpl.ratio != 1) {\n",
       "                fig.send_message(\"set_dpi_ratio\", {'dpi_ratio': mpl.ratio});\n",
       "            }\n",
       "            fig.send_message(\"refresh\", {});\n",
       "        }\n",
       "\n",
       "    this.imageObj.onload = function() {\n",
       "            if (fig.image_mode == 'full') {\n",
       "                // Full images could contain transparency (where diff images\n",
       "                // almost always do), so we need to clear the canvas so that\n",
       "                // there is no ghosting.\n",
       "                fig.context.clearRect(0, 0, fig.canvas.width, fig.canvas.height);\n",
       "            }\n",
       "            fig.context.drawImage(fig.imageObj, 0, 0);\n",
       "        };\n",
       "\n",
       "    this.imageObj.onunload = function() {\n",
       "        fig.ws.close();\n",
       "    }\n",
       "\n",
       "    this.ws.onmessage = this._make_on_message_function(this);\n",
       "\n",
       "    this.ondownload = ondownload;\n",
       "}\n",
       "\n",
       "mpl.figure.prototype._init_header = function() {\n",
       "    var titlebar = $(\n",
       "        '<div class=\"ui-dialog-titlebar ui-widget-header ui-corner-all ' +\n",
       "        'ui-helper-clearfix\"/>');\n",
       "    var titletext = $(\n",
       "        '<div class=\"ui-dialog-title\" style=\"width: 100%; ' +\n",
       "        'text-align: center; padding: 3px;\"/>');\n",
       "    titlebar.append(titletext)\n",
       "    this.root.append(titlebar);\n",
       "    this.header = titletext[0];\n",
       "}\n",
       "\n",
       "\n",
       "\n",
       "mpl.figure.prototype._canvas_extra_style = function(canvas_div) {\n",
       "\n",
       "}\n",
       "\n",
       "\n",
       "mpl.figure.prototype._root_extra_style = function(canvas_div) {\n",
       "\n",
       "}\n",
       "\n",
       "mpl.figure.prototype._init_canvas = function() {\n",
       "    var fig = this;\n",
       "\n",
       "    var canvas_div = $('<div/>');\n",
       "\n",
       "    canvas_div.attr('style', 'position: relative; clear: both; outline: 0');\n",
       "\n",
       "    function canvas_keyboard_event(event) {\n",
       "        return fig.key_event(event, event['data']);\n",
       "    }\n",
       "\n",
       "    canvas_div.keydown('key_press', canvas_keyboard_event);\n",
       "    canvas_div.keyup('key_release', canvas_keyboard_event);\n",
       "    this.canvas_div = canvas_div\n",
       "    this._canvas_extra_style(canvas_div)\n",
       "    this.root.append(canvas_div);\n",
       "\n",
       "    var canvas = $('<canvas/>');\n",
       "    canvas.addClass('mpl-canvas');\n",
       "    canvas.attr('style', \"left: 0; top: 0; z-index: 0; outline: 0\")\n",
       "\n",
       "    this.canvas = canvas[0];\n",
       "    this.context = canvas[0].getContext(\"2d\");\n",
       "\n",
       "    var backingStore = this.context.backingStorePixelRatio ||\n",
       "\tthis.context.webkitBackingStorePixelRatio ||\n",
       "\tthis.context.mozBackingStorePixelRatio ||\n",
       "\tthis.context.msBackingStorePixelRatio ||\n",
       "\tthis.context.oBackingStorePixelRatio ||\n",
       "\tthis.context.backingStorePixelRatio || 1;\n",
       "\n",
       "    mpl.ratio = (window.devicePixelRatio || 1) / backingStore;\n",
       "\n",
       "    var rubberband = $('<canvas/>');\n",
       "    rubberband.attr('style', \"position: absolute; left: 0; top: 0; z-index: 1;\")\n",
       "\n",
       "    var pass_mouse_events = true;\n",
       "\n",
       "    canvas_div.resizable({\n",
       "        start: function(event, ui) {\n",
       "            pass_mouse_events = false;\n",
       "        },\n",
       "        resize: function(event, ui) {\n",
       "            fig.request_resize(ui.size.width, ui.size.height);\n",
       "        },\n",
       "        stop: function(event, ui) {\n",
       "            pass_mouse_events = true;\n",
       "            fig.request_resize(ui.size.width, ui.size.height);\n",
       "        },\n",
       "    });\n",
       "\n",
       "    function mouse_event_fn(event) {\n",
       "        if (pass_mouse_events)\n",
       "            return fig.mouse_event(event, event['data']);\n",
       "    }\n",
       "\n",
       "    rubberband.mousedown('button_press', mouse_event_fn);\n",
       "    rubberband.mouseup('button_release', mouse_event_fn);\n",
       "    // Throttle sequential mouse events to 1 every 20ms.\n",
       "    rubberband.mousemove('motion_notify', mouse_event_fn);\n",
       "\n",
       "    rubberband.mouseenter('figure_enter', mouse_event_fn);\n",
       "    rubberband.mouseleave('figure_leave', mouse_event_fn);\n",
       "\n",
       "    canvas_div.on(\"wheel\", function (event) {\n",
       "        event = event.originalEvent;\n",
       "        event['data'] = 'scroll'\n",
       "        if (event.deltaY < 0) {\n",
       "            event.step = 1;\n",
       "        } else {\n",
       "            event.step = -1;\n",
       "        }\n",
       "        mouse_event_fn(event);\n",
       "    });\n",
       "\n",
       "    canvas_div.append(canvas);\n",
       "    canvas_div.append(rubberband);\n",
       "\n",
       "    this.rubberband = rubberband;\n",
       "    this.rubberband_canvas = rubberband[0];\n",
       "    this.rubberband_context = rubberband[0].getContext(\"2d\");\n",
       "    this.rubberband_context.strokeStyle = \"#000000\";\n",
       "\n",
       "    this._resize_canvas = function(width, height) {\n",
       "        // Keep the size of the canvas, canvas container, and rubber band\n",
       "        // canvas in synch.\n",
       "        canvas_div.css('width', width)\n",
       "        canvas_div.css('height', height)\n",
       "\n",
       "        canvas.attr('width', width * mpl.ratio);\n",
       "        canvas.attr('height', height * mpl.ratio);\n",
       "        canvas.attr('style', 'width: ' + width + 'px; height: ' + height + 'px;');\n",
       "\n",
       "        rubberband.attr('width', width);\n",
       "        rubberband.attr('height', height);\n",
       "    }\n",
       "\n",
       "    // Set the figure to an initial 600x600px, this will subsequently be updated\n",
       "    // upon first draw.\n",
       "    this._resize_canvas(600, 600);\n",
       "\n",
       "    // Disable right mouse context menu.\n",
       "    $(this.rubberband_canvas).bind(\"contextmenu\",function(e){\n",
       "        return false;\n",
       "    });\n",
       "\n",
       "    function set_focus () {\n",
       "        canvas.focus();\n",
       "        canvas_div.focus();\n",
       "    }\n",
       "\n",
       "    window.setTimeout(set_focus, 100);\n",
       "}\n",
       "\n",
       "mpl.figure.prototype._init_toolbar = function() {\n",
       "    var fig = this;\n",
       "\n",
       "    var nav_element = $('<div/>')\n",
       "    nav_element.attr('style', 'width: 100%');\n",
       "    this.root.append(nav_element);\n",
       "\n",
       "    // Define a callback function for later on.\n",
       "    function toolbar_event(event) {\n",
       "        return fig.toolbar_button_onclick(event['data']);\n",
       "    }\n",
       "    function toolbar_mouse_event(event) {\n",
       "        return fig.toolbar_button_onmouseover(event['data']);\n",
       "    }\n",
       "\n",
       "    for(var toolbar_ind in mpl.toolbar_items) {\n",
       "        var name = mpl.toolbar_items[toolbar_ind][0];\n",
       "        var tooltip = mpl.toolbar_items[toolbar_ind][1];\n",
       "        var image = mpl.toolbar_items[toolbar_ind][2];\n",
       "        var method_name = mpl.toolbar_items[toolbar_ind][3];\n",
       "\n",
       "        if (!name) {\n",
       "            // put a spacer in here.\n",
       "            continue;\n",
       "        }\n",
       "        var button = $('<button/>');\n",
       "        button.addClass('ui-button ui-widget ui-state-default ui-corner-all ' +\n",
       "                        'ui-button-icon-only');\n",
       "        button.attr('role', 'button');\n",
       "        button.attr('aria-disabled', 'false');\n",
       "        button.click(method_name, toolbar_event);\n",
       "        button.mouseover(tooltip, toolbar_mouse_event);\n",
       "\n",
       "        var icon_img = $('<span/>');\n",
       "        icon_img.addClass('ui-button-icon-primary ui-icon');\n",
       "        icon_img.addClass(image);\n",
       "        icon_img.addClass('ui-corner-all');\n",
       "\n",
       "        var tooltip_span = $('<span/>');\n",
       "        tooltip_span.addClass('ui-button-text');\n",
       "        tooltip_span.html(tooltip);\n",
       "\n",
       "        button.append(icon_img);\n",
       "        button.append(tooltip_span);\n",
       "\n",
       "        nav_element.append(button);\n",
       "    }\n",
       "\n",
       "    var fmt_picker_span = $('<span/>');\n",
       "\n",
       "    var fmt_picker = $('<select/>');\n",
       "    fmt_picker.addClass('mpl-toolbar-option ui-widget ui-widget-content');\n",
       "    fmt_picker_span.append(fmt_picker);\n",
       "    nav_element.append(fmt_picker_span);\n",
       "    this.format_dropdown = fmt_picker[0];\n",
       "\n",
       "    for (var ind in mpl.extensions) {\n",
       "        var fmt = mpl.extensions[ind];\n",
       "        var option = $(\n",
       "            '<option/>', {selected: fmt === mpl.default_extension}).html(fmt);\n",
       "        fmt_picker.append(option)\n",
       "    }\n",
       "\n",
       "    // Add hover states to the ui-buttons\n",
       "    $( \".ui-button\" ).hover(\n",
       "        function() { $(this).addClass(\"ui-state-hover\");},\n",
       "        function() { $(this).removeClass(\"ui-state-hover\");}\n",
       "    );\n",
       "\n",
       "    var status_bar = $('<span class=\"mpl-message\"/>');\n",
       "    nav_element.append(status_bar);\n",
       "    this.message = status_bar[0];\n",
       "}\n",
       "\n",
       "mpl.figure.prototype.request_resize = function(x_pixels, y_pixels) {\n",
       "    // Request matplotlib to resize the figure. Matplotlib will then trigger a resize in the client,\n",
       "    // which will in turn request a refresh of the image.\n",
       "    this.send_message('resize', {'width': x_pixels, 'height': y_pixels});\n",
       "}\n",
       "\n",
       "mpl.figure.prototype.send_message = function(type, properties) {\n",
       "    properties['type'] = type;\n",
       "    properties['figure_id'] = this.id;\n",
       "    this.ws.send(JSON.stringify(properties));\n",
       "}\n",
       "\n",
       "mpl.figure.prototype.send_draw_message = function() {\n",
       "    if (!this.waiting) {\n",
       "        this.waiting = true;\n",
       "        this.ws.send(JSON.stringify({type: \"draw\", figure_id: this.id}));\n",
       "    }\n",
       "}\n",
       "\n",
       "\n",
       "mpl.figure.prototype.handle_save = function(fig, msg) {\n",
       "    var format_dropdown = fig.format_dropdown;\n",
       "    var format = format_dropdown.options[format_dropdown.selectedIndex].value;\n",
       "    fig.ondownload(fig, format);\n",
       "}\n",
       "\n",
       "\n",
       "mpl.figure.prototype.handle_resize = function(fig, msg) {\n",
       "    var size = msg['size'];\n",
       "    if (size[0] != fig.canvas.width || size[1] != fig.canvas.height) {\n",
       "        fig._resize_canvas(size[0], size[1]);\n",
       "        fig.send_message(\"refresh\", {});\n",
       "    };\n",
       "}\n",
       "\n",
       "mpl.figure.prototype.handle_rubberband = function(fig, msg) {\n",
       "    var x0 = msg['x0'] / mpl.ratio;\n",
       "    var y0 = (fig.canvas.height - msg['y0']) / mpl.ratio;\n",
       "    var x1 = msg['x1'] / mpl.ratio;\n",
       "    var y1 = (fig.canvas.height - msg['y1']) / mpl.ratio;\n",
       "    x0 = Math.floor(x0) + 0.5;\n",
       "    y0 = Math.floor(y0) + 0.5;\n",
       "    x1 = Math.floor(x1) + 0.5;\n",
       "    y1 = Math.floor(y1) + 0.5;\n",
       "    var min_x = Math.min(x0, x1);\n",
       "    var min_y = Math.min(y0, y1);\n",
       "    var width = Math.abs(x1 - x0);\n",
       "    var height = Math.abs(y1 - y0);\n",
       "\n",
       "    fig.rubberband_context.clearRect(\n",
       "        0, 0, fig.canvas.width, fig.canvas.height);\n",
       "\n",
       "    fig.rubberband_context.strokeRect(min_x, min_y, width, height);\n",
       "}\n",
       "\n",
       "mpl.figure.prototype.handle_figure_label = function(fig, msg) {\n",
       "    // Updates the figure title.\n",
       "    fig.header.textContent = msg['label'];\n",
       "}\n",
       "\n",
       "mpl.figure.prototype.handle_cursor = function(fig, msg) {\n",
       "    var cursor = msg['cursor'];\n",
       "    switch(cursor)\n",
       "    {\n",
       "    case 0:\n",
       "        cursor = 'pointer';\n",
       "        break;\n",
       "    case 1:\n",
       "        cursor = 'default';\n",
       "        break;\n",
       "    case 2:\n",
       "        cursor = 'crosshair';\n",
       "        break;\n",
       "    case 3:\n",
       "        cursor = 'move';\n",
       "        break;\n",
       "    }\n",
       "    fig.rubberband_canvas.style.cursor = cursor;\n",
       "}\n",
       "\n",
       "mpl.figure.prototype.handle_message = function(fig, msg) {\n",
       "    fig.message.textContent = msg['message'];\n",
       "}\n",
       "\n",
       "mpl.figure.prototype.handle_draw = function(fig, msg) {\n",
       "    // Request the server to send over a new figure.\n",
       "    fig.send_draw_message();\n",
       "}\n",
       "\n",
       "mpl.figure.prototype.handle_image_mode = function(fig, msg) {\n",
       "    fig.image_mode = msg['mode'];\n",
       "}\n",
       "\n",
       "mpl.figure.prototype.updated_canvas_event = function() {\n",
       "    // Called whenever the canvas gets updated.\n",
       "    this.send_message(\"ack\", {});\n",
       "}\n",
       "\n",
       "// A function to construct a web socket function for onmessage handling.\n",
       "// Called in the figure constructor.\n",
       "mpl.figure.prototype._make_on_message_function = function(fig) {\n",
       "    return function socket_on_message(evt) {\n",
       "        if (evt.data instanceof Blob) {\n",
       "            /* FIXME: We get \"Resource interpreted as Image but\n",
       "             * transferred with MIME type text/plain:\" errors on\n",
       "             * Chrome.  But how to set the MIME type?  It doesn't seem\n",
       "             * to be part of the websocket stream */\n",
       "            evt.data.type = \"image/png\";\n",
       "\n",
       "            /* Free the memory for the previous frames */\n",
       "            if (fig.imageObj.src) {\n",
       "                (window.URL || window.webkitURL).revokeObjectURL(\n",
       "                    fig.imageObj.src);\n",
       "            }\n",
       "\n",
       "            fig.imageObj.src = (window.URL || window.webkitURL).createObjectURL(\n",
       "                evt.data);\n",
       "            fig.updated_canvas_event();\n",
       "            fig.waiting = false;\n",
       "            return;\n",
       "        }\n",
       "        else if (typeof evt.data === 'string' && evt.data.slice(0, 21) == \"data:image/png;base64\") {\n",
       "            fig.imageObj.src = evt.data;\n",
       "            fig.updated_canvas_event();\n",
       "            fig.waiting = false;\n",
       "            return;\n",
       "        }\n",
       "\n",
       "        var msg = JSON.parse(evt.data);\n",
       "        var msg_type = msg['type'];\n",
       "\n",
       "        // Call the  \"handle_{type}\" callback, which takes\n",
       "        // the figure and JSON message as its only arguments.\n",
       "        try {\n",
       "            var callback = fig[\"handle_\" + msg_type];\n",
       "        } catch (e) {\n",
       "            console.log(\"No handler for the '\" + msg_type + \"' message type: \", msg);\n",
       "            return;\n",
       "        }\n",
       "\n",
       "        if (callback) {\n",
       "            try {\n",
       "                // console.log(\"Handling '\" + msg_type + \"' message: \", msg);\n",
       "                callback(fig, msg);\n",
       "            } catch (e) {\n",
       "                console.log(\"Exception inside the 'handler_\" + msg_type + \"' callback:\", e, e.stack, msg);\n",
       "            }\n",
       "        }\n",
       "    };\n",
       "}\n",
       "\n",
       "// from http://stackoverflow.com/questions/1114465/getting-mouse-location-in-canvas\n",
       "mpl.findpos = function(e) {\n",
       "    //this section is from http://www.quirksmode.org/js/events_properties.html\n",
       "    var targ;\n",
       "    if (!e)\n",
       "        e = window.event;\n",
       "    if (e.target)\n",
       "        targ = e.target;\n",
       "    else if (e.srcElement)\n",
       "        targ = e.srcElement;\n",
       "    if (targ.nodeType == 3) // defeat Safari bug\n",
       "        targ = targ.parentNode;\n",
       "\n",
       "    // jQuery normalizes the pageX and pageY\n",
       "    // pageX,Y are the mouse positions relative to the document\n",
       "    // offset() returns the position of the element relative to the document\n",
       "    var x = e.pageX - $(targ).offset().left;\n",
       "    var y = e.pageY - $(targ).offset().top;\n",
       "\n",
       "    return {\"x\": x, \"y\": y};\n",
       "};\n",
       "\n",
       "/*\n",
       " * return a copy of an object with only non-object keys\n",
       " * we need this to avoid circular references\n",
       " * http://stackoverflow.com/a/24161582/3208463\n",
       " */\n",
       "function simpleKeys (original) {\n",
       "  return Object.keys(original).reduce(function (obj, key) {\n",
       "    if (typeof original[key] !== 'object')\n",
       "        obj[key] = original[key]\n",
       "    return obj;\n",
       "  }, {});\n",
       "}\n",
       "\n",
       "mpl.figure.prototype.mouse_event = function(event, name) {\n",
       "    var canvas_pos = mpl.findpos(event)\n",
       "\n",
       "    if (name === 'button_press')\n",
       "    {\n",
       "        this.canvas.focus();\n",
       "        this.canvas_div.focus();\n",
       "    }\n",
       "\n",
       "    var x = canvas_pos.x * mpl.ratio;\n",
       "    var y = canvas_pos.y * mpl.ratio;\n",
       "\n",
       "    this.send_message(name, {x: x, y: y, button: event.button,\n",
       "                             step: event.step,\n",
       "                             guiEvent: simpleKeys(event)});\n",
       "\n",
       "    /* This prevents the web browser from automatically changing to\n",
       "     * the text insertion cursor when the button is pressed.  We want\n",
       "     * to control all of the cursor setting manually through the\n",
       "     * 'cursor' event from matplotlib */\n",
       "    event.preventDefault();\n",
       "    return false;\n",
       "}\n",
       "\n",
       "mpl.figure.prototype._key_event_extra = function(event, name) {\n",
       "    // Handle any extra behaviour associated with a key event\n",
       "}\n",
       "\n",
       "mpl.figure.prototype.key_event = function(event, name) {\n",
       "\n",
       "    // Prevent repeat events\n",
       "    if (name == 'key_press')\n",
       "    {\n",
       "        if (event.which === this._key)\n",
       "            return;\n",
       "        else\n",
       "            this._key = event.which;\n",
       "    }\n",
       "    if (name == 'key_release')\n",
       "        this._key = null;\n",
       "\n",
       "    var value = '';\n",
       "    if (event.ctrlKey && event.which != 17)\n",
       "        value += \"ctrl+\";\n",
       "    if (event.altKey && event.which != 18)\n",
       "        value += \"alt+\";\n",
       "    if (event.shiftKey && event.which != 16)\n",
       "        value += \"shift+\";\n",
       "\n",
       "    value += 'k';\n",
       "    value += event.which.toString();\n",
       "\n",
       "    this._key_event_extra(event, name);\n",
       "\n",
       "    this.send_message(name, {key: value,\n",
       "                             guiEvent: simpleKeys(event)});\n",
       "    return false;\n",
       "}\n",
       "\n",
       "mpl.figure.prototype.toolbar_button_onclick = function(name) {\n",
       "    if (name == 'download') {\n",
       "        this.handle_save(this, null);\n",
       "    } else {\n",
       "        this.send_message(\"toolbar_button\", {name: name});\n",
       "    }\n",
       "};\n",
       "\n",
       "mpl.figure.prototype.toolbar_button_onmouseover = function(tooltip) {\n",
       "    this.message.textContent = tooltip;\n",
       "};\n",
       "mpl.toolbar_items = [[\"Home\", \"Reset original view\", \"fa fa-home icon-home\", \"home\"], [\"Back\", \"Back to previous view\", \"fa fa-arrow-left icon-arrow-left\", \"back\"], [\"Forward\", \"Forward to next view\", \"fa fa-arrow-right icon-arrow-right\", \"forward\"], [\"\", \"\", \"\", \"\"], [\"Pan\", \"Pan axes with left mouse, zoom with right\", \"fa fa-arrows icon-move\", \"pan\"], [\"Zoom\", \"Zoom to rectangle\", \"fa fa-square-o icon-check-empty\", \"zoom\"], [\"\", \"\", \"\", \"\"], [\"Download\", \"Download plot\", \"fa fa-floppy-o icon-save\", \"download\"]];\n",
       "\n",
       "mpl.extensions = [\"eps\", \"jpeg\", \"pdf\", \"png\", \"ps\", \"raw\", \"svg\", \"tif\"];\n",
       "\n",
       "mpl.default_extension = \"png\";var comm_websocket_adapter = function(comm) {\n",
       "    // Create a \"websocket\"-like object which calls the given IPython comm\n",
       "    // object with the appropriate methods. Currently this is a non binary\n",
       "    // socket, so there is still some room for performance tuning.\n",
       "    var ws = {};\n",
       "\n",
       "    ws.close = function() {\n",
       "        comm.close()\n",
       "    };\n",
       "    ws.send = function(m) {\n",
       "        //console.log('sending', m);\n",
       "        comm.send(m);\n",
       "    };\n",
       "    // Register the callback with on_msg.\n",
       "    comm.on_msg(function(msg) {\n",
       "        //console.log('receiving', msg['content']['data'], msg);\n",
       "        // Pass the mpl event to the overridden (by mpl) onmessage function.\n",
       "        ws.onmessage(msg['content']['data'])\n",
       "    });\n",
       "    return ws;\n",
       "}\n",
       "\n",
       "mpl.mpl_figure_comm = function(comm, msg) {\n",
       "    // This is the function which gets called when the mpl process\n",
       "    // starts-up an IPython Comm through the \"matplotlib\" channel.\n",
       "\n",
       "    var id = msg.content.data.id;\n",
       "    // Get hold of the div created by the display call when the Comm\n",
       "    // socket was opened in Python.\n",
       "    var element = $(\"#\" + id);\n",
       "    var ws_proxy = comm_websocket_adapter(comm)\n",
       "\n",
       "    function ondownload(figure, format) {\n",
       "        window.open(figure.imageObj.src);\n",
       "    }\n",
       "\n",
       "    var fig = new mpl.figure(id, ws_proxy,\n",
       "                           ondownload,\n",
       "                           element.get(0));\n",
       "\n",
       "    // Call onopen now - mpl needs it, as it is assuming we've passed it a real\n",
       "    // web socket which is closed, not our websocket->open comm proxy.\n",
       "    ws_proxy.onopen();\n",
       "\n",
       "    fig.parent_element = element.get(0);\n",
       "    fig.cell_info = mpl.find_output_cell(\"<div id='\" + id + \"'></div>\");\n",
       "    if (!fig.cell_info) {\n",
       "        console.error(\"Failed to find cell for figure\", id, fig);\n",
       "        return;\n",
       "    }\n",
       "\n",
       "    var output_index = fig.cell_info[2]\n",
       "    var cell = fig.cell_info[0];\n",
       "\n",
       "};\n",
       "\n",
       "mpl.figure.prototype.handle_close = function(fig, msg) {\n",
       "    var width = fig.canvas.width/mpl.ratio\n",
       "    fig.root.unbind('remove')\n",
       "\n",
       "    // Update the output cell to use the data from the current canvas.\n",
       "    fig.push_to_output();\n",
       "    var dataURL = fig.canvas.toDataURL();\n",
       "    // Re-enable the keyboard manager in IPython - without this line, in FF,\n",
       "    // the notebook keyboard shortcuts fail.\n",
       "    IPython.keyboard_manager.enable()\n",
       "    $(fig.parent_element).html('<img src=\"' + dataURL + '\" width=\"' + width + '\">');\n",
       "    fig.close_ws(fig, msg);\n",
       "}\n",
       "\n",
       "mpl.figure.prototype.close_ws = function(fig, msg){\n",
       "    fig.send_message('closing', msg);\n",
       "    // fig.ws.close()\n",
       "}\n",
       "\n",
       "mpl.figure.prototype.push_to_output = function(remove_interactive) {\n",
       "    // Turn the data on the canvas into data in the output cell.\n",
       "    var width = this.canvas.width/mpl.ratio\n",
       "    var dataURL = this.canvas.toDataURL();\n",
       "    this.cell_info[1]['text/html'] = '<img src=\"' + dataURL + '\" width=\"' + width + '\">';\n",
       "}\n",
       "\n",
       "mpl.figure.prototype.updated_canvas_event = function() {\n",
       "    // Tell IPython that the notebook contents must change.\n",
       "    IPython.notebook.set_dirty(true);\n",
       "    this.send_message(\"ack\", {});\n",
       "    var fig = this;\n",
       "    // Wait a second, then push the new image to the DOM so\n",
       "    // that it is saved nicely (might be nice to debounce this).\n",
       "    setTimeout(function () { fig.push_to_output() }, 1000);\n",
       "}\n",
       "\n",
       "mpl.figure.prototype._init_toolbar = function() {\n",
       "    var fig = this;\n",
       "\n",
       "    var nav_element = $('<div/>')\n",
       "    nav_element.attr('style', 'width: 100%');\n",
       "    this.root.append(nav_element);\n",
       "\n",
       "    // Define a callback function for later on.\n",
       "    function toolbar_event(event) {\n",
       "        return fig.toolbar_button_onclick(event['data']);\n",
       "    }\n",
       "    function toolbar_mouse_event(event) {\n",
       "        return fig.toolbar_button_onmouseover(event['data']);\n",
       "    }\n",
       "\n",
       "    for(var toolbar_ind in mpl.toolbar_items){\n",
       "        var name = mpl.toolbar_items[toolbar_ind][0];\n",
       "        var tooltip = mpl.toolbar_items[toolbar_ind][1];\n",
       "        var image = mpl.toolbar_items[toolbar_ind][2];\n",
       "        var method_name = mpl.toolbar_items[toolbar_ind][3];\n",
       "\n",
       "        if (!name) { continue; };\n",
       "\n",
       "        var button = $('<button class=\"btn btn-default\" href=\"#\" title=\"' + name + '\"><i class=\"fa ' + image + ' fa-lg\"></i></button>');\n",
       "        button.click(method_name, toolbar_event);\n",
       "        button.mouseover(tooltip, toolbar_mouse_event);\n",
       "        nav_element.append(button);\n",
       "    }\n",
       "\n",
       "    // Add the status bar.\n",
       "    var status_bar = $('<span class=\"mpl-message\" style=\"text-align:right; float: right;\"/>');\n",
       "    nav_element.append(status_bar);\n",
       "    this.message = status_bar[0];\n",
       "\n",
       "    // Add the close button to the window.\n",
       "    var buttongrp = $('<div class=\"btn-group inline pull-right\"></div>');\n",
       "    var button = $('<button class=\"btn btn-mini btn-primary\" href=\"#\" title=\"Stop Interaction\"><i class=\"fa fa-power-off icon-remove icon-large\"></i></button>');\n",
       "    button.click(function (evt) { fig.handle_close(fig, {}); } );\n",
       "    button.mouseover('Stop Interaction', toolbar_mouse_event);\n",
       "    buttongrp.append(button);\n",
       "    var titlebar = this.root.find($('.ui-dialog-titlebar'));\n",
       "    titlebar.prepend(buttongrp);\n",
       "}\n",
       "\n",
       "mpl.figure.prototype._root_extra_style = function(el){\n",
       "    var fig = this\n",
       "    el.on(\"remove\", function(){\n",
       "\tfig.close_ws(fig, {});\n",
       "    });\n",
       "}\n",
       "\n",
       "mpl.figure.prototype._canvas_extra_style = function(el){\n",
       "    // this is important to make the div 'focusable\n",
       "    el.attr('tabindex', 0)\n",
       "    // reach out to IPython and tell the keyboard manager to turn it's self\n",
       "    // off when our div gets focus\n",
       "\n",
       "    // location in version 3\n",
       "    if (IPython.notebook.keyboard_manager) {\n",
       "        IPython.notebook.keyboard_manager.register_events(el);\n",
       "    }\n",
       "    else {\n",
       "        // location in version 2\n",
       "        IPython.keyboard_manager.register_events(el);\n",
       "    }\n",
       "\n",
       "}\n",
       "\n",
       "mpl.figure.prototype._key_event_extra = function(event, name) {\n",
       "    var manager = IPython.notebook.keyboard_manager;\n",
       "    if (!manager)\n",
       "        manager = IPython.keyboard_manager;\n",
       "\n",
       "    // Check for shift+enter\n",
       "    if (event.shiftKey && event.which == 13) {\n",
       "        this.canvas_div.blur();\n",
       "        event.shiftKey = false;\n",
       "        // Send a \"J\" for go to next cell\n",
       "        event.which = 74;\n",
       "        event.keyCode = 74;\n",
       "        manager.command_mode();\n",
       "        manager.handle_keydown(event);\n",
       "    }\n",
       "}\n",
       "\n",
       "mpl.figure.prototype.handle_save = function(fig, msg) {\n",
       "    fig.ondownload(fig, null);\n",
       "}\n",
       "\n",
       "\n",
       "mpl.find_output_cell = function(html_output) {\n",
       "    // Return the cell and output element which can be found *uniquely* in the notebook.\n",
       "    // Note - this is a bit hacky, but it is done because the \"notebook_saving.Notebook\"\n",
       "    // IPython event is triggered only after the cells have been serialised, which for\n",
       "    // our purposes (turning an active figure into a static one), is too late.\n",
       "    var cells = IPython.notebook.get_cells();\n",
       "    var ncells = cells.length;\n",
       "    for (var i=0; i<ncells; i++) {\n",
       "        var cell = cells[i];\n",
       "        if (cell.cell_type === 'code'){\n",
       "            for (var j=0; j<cell.output_area.outputs.length; j++) {\n",
       "                var data = cell.output_area.outputs[j];\n",
       "                if (data.data) {\n",
       "                    // IPython >= 3 moved mimebundle to data attribute of output\n",
       "                    data = data.data;\n",
       "                }\n",
       "                if (data['text/html'] == html_output) {\n",
       "                    return [cell, data, j];\n",
       "                }\n",
       "            }\n",
       "        }\n",
       "    }\n",
       "}\n",
       "\n",
       "// Register the function which deals with the matplotlib target/channel.\n",
       "// The kernel may be null if the page has been refreshed.\n",
       "if (IPython.notebook.kernel != null) {\n",
       "    IPython.notebook.kernel.comm_manager.register_target('matplotlib', mpl.mpl_figure_comm);\n",
       "}\n"
      ],
      "text/plain": [
       "<IPython.core.display.Javascript object>"
      ]
     },
     "metadata": {},
     "output_type": "display_data"
    },
    {
     "data": {
      "text/html": [
       "<img src=\"data:image/png;base64,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\" width=\"640\">"
      ],
      "text/plain": [
       "<IPython.core.display.HTML object>"
      ]
     },
     "metadata": {},
     "output_type": "display_data"
    }
   ],
   "source": [
    "fig = plt.figure()\n",
    "ax = Axes3D(fig)\n",
    "for label in range(10):\n",
    "    x_train_tmp = x_train_emb3[y_train==label]\n",
    "    ax.scatter(x_train_tmp[:,0],x_train_tmp[:,1],alpha=0.75, label=label)\n",
    "ax.legend()\n",
    "plt.show()"
   ]
  },
  {
   "cell_type": "code",
   "execution_count": null,
   "metadata": {},
   "outputs": [],
   "source": []
  }
 ],
 "metadata": {
  "kernelspec": {
   "display_name": "Python 3",
   "language": "python",
   "name": "python3"
  },
  "language_info": {
   "codemirror_mode": {
    "name": "ipython",
    "version": 3
   },
   "file_extension": ".py",
   "mimetype": "text/x-python",
   "name": "python",
   "nbconvert_exporter": "python",
   "pygments_lexer": "ipython3",
   "version": "3.7.1"
  }
 },
 "nbformat": 4,
 "nbformat_minor": 2
}
