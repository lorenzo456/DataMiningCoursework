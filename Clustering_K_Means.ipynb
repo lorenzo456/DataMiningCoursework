{
 "cells": [
  {
   "cell_type": "markdown",
   "metadata": {},
   "source": [
    "# K-Means Clustering"
   ]
  },
  {
   "cell_type": "code",
   "execution_count": 1,
   "metadata": {},
   "outputs": [],
   "source": [
    "import pandas as pd\n",
    "import numpy as np\n",
    "import cv2 as cv\n",
    "import matplotlib.pyplot as plt\n",
    "\n",
    "import sklearn\n",
    "from sklearn.metrics import accuracy_score\n",
    "from sklearn.model_selection import train_test_split\n",
    "from sklearn.metrics import confusion_matrix, classification_report\n",
    "from sklearn.cluster import KMeans"
   ]
  },
  {
   "cell_type": "markdown",
   "metadata": {},
   "source": [
    "## Preprocessing of data"
   ]
  },
  {
   "cell_type": "code",
   "execution_count": 2,
   "metadata": {},
   "outputs": [],
   "source": [
    "def get_array_of_matrix(dataset):\n",
    "    array_of_images = []\n",
    "    for row in dataset:\n",
    "        row = np.asarray(row)\n",
    "        matrix = np.reshape(row, (48, 48))\n",
    "        array_of_images.append(matrix)\n",
    "    return array_of_images\n",
    "\n",
    "\n",
    "def crop_dataset(dataset, row, clmn):\n",
    "    copped_dataset = []\n",
    "    for image in dataset:\n",
    "        y, x = image.shape\n",
    "        first_x = x//2-(row//2)\n",
    "        first_y = y//2-(clmn//2)\n",
    "        copped_dataset.append(image[first_y:first_y + clmn, first_x:first_x + row])\n",
    "    return copped_dataset\n",
    "\n",
    "\n",
    "def reshape_dataset(dataset):\n",
    "    reshaped_dataset = []\n",
    "    for image in dataset:\n",
    "        image = cv.resize(image, (48, 48)) # un po' bruttino\n",
    "        image = image.flatten()\n",
    "        reshaped_dataset.append(image)\n",
    "    # reshaped_dataset = np.reshape(reshaped_dataset, (12660, 2304)) # un po' bruttino\n",
    "    return reshaped_dataset\n",
    "\n",
    "\n",
    "def apply_adaptive_threshold(dataset):\n",
    "    dataset_with_filter = []\n",
    "    for image in dataset:\n",
    "        image = cv.adaptiveThreshold(image, 255, cv.ADAPTIVE_THRESH_GAUSSIAN_C, cv.THRESH_BINARY, 11, 2)\n",
    "        image = image.flatten()\n",
    "        dataset_with_filter.append(image)\n",
    "    dataset_with_filter = np.reshape(dataset_with_filter, (12660,2304))\n",
    "    return dataset_with_filter"
   ]
  },
  {
   "cell_type": "code",
   "execution_count": 3,
   "metadata": {},
   "outputs": [],
   "source": [
    "x_train_gr_smpl = pd.read_csv(\"./datasets/x_train_gr_smpl.csv\", delimiter=\",\", dtype=np.uint8)\n",
    "y_train_smpl = pd.read_csv(\"./datasets/y_train_smpl.csv\", delimiter=\",\", dtype=np.uint8)"
   ]
  },
  {
   "cell_type": "code",
   "execution_count": 4,
   "metadata": {},
   "outputs": [],
   "source": [
    "dataset = np.asmatrix(x_train_gr_smpl)\n",
    "aom_dataset = get_array_of_matrix(dataset)\n",
    "cropped_dataset = crop_dataset(aom_dataset, 40, 40)\n",
    "new_dataset = reshape_dataset(cropped_dataset)\n",
    "dataset1 = apply_adaptive_threshold(new_dataset)"
   ]
  },
  {
   "cell_type": "code",
   "execution_count": 15,
   "metadata": {},
   "outputs": [],
   "source": [
    "df = np.append(dataset1, y_train_smpl, axis=1)\n",
    "x = df[:, 0:1599]\n",
    "y = df[:, -1]"
   ]
  },
  {
   "cell_type": "markdown",
   "metadata": {},
   "source": [
    "\n",
    "# K-Means Clustering"
   ]
  },
  {
   "cell_type": "code",
   "execution_count": 7,
   "metadata": {},
   "outputs": [],
   "source": [
    "kmeans = KMeans()"
   ]
  },
  {
   "cell_type": "code",
   "execution_count": 16,
   "metadata": {},
   "outputs": [
    {
     "data": {
      "text/plain": [
       "KMeans(algorithm='auto', copy_x=True, init='k-means++', max_iter=300,\n",
       "    n_clusters=8, n_init=10, n_jobs=None, precompute_distances='auto',\n",
       "    random_state=None, tol=0.0001, verbose=0)"
      ]
     },
     "execution_count": 16,
     "metadata": {},
     "output_type": "execute_result"
    }
   ],
   "source": [
    "kmeans.fit(x)"
   ]
  },
  {
   "cell_type": "code",
   "execution_count": 17,
   "metadata": {},
   "outputs": [
    {
     "name": "stdout",
     "output_type": "stream",
     "text": [
      "Total number of clusters found: 8\n"
     ]
    }
   ],
   "source": [
    "f = np.unique(kmeans.labels_)\n",
    "print(f\"Total number of clusters found: {len(f)}\")"
   ]
  },
  {
   "cell_type": "code",
   "execution_count": 24,
   "metadata": {},
   "outputs": [
    {
     "name": "stdout",
     "output_type": "stream",
     "text": [
      "Confusion Matrix\n",
      "[[   6  347    6    0  440    5  532   74    0    0]\n",
      " [  11  665   19    0  366   12  598  189    0    0]\n",
      " [   2  188    8    0  112    4   30   76    0    0]\n",
      " [ 994  158    0    0    0    3    6  159    0    0]\n",
      " [  17  328   14    2    1 1364   88  286    0    0]\n",
      " [   1  233    0 1739    0   13    0  174    0    0]\n",
      " [  31    9  495    0    2    4   84  155    0    0]\n",
      " [   2   56   10    0   64   14   18   76    0    0]\n",
      " [  19  669  471    2   14    5   50  840    0    0]\n",
      " [   4   64   83    1    1   12    4  131    0    0]]\n",
      "\n",
      "\n",
      "Classification report\n",
      "              precision    recall  f1-score   support\n",
      "\n",
      "           0       0.01      0.00      0.00      1410\n",
      "           1       0.24      0.36      0.29      1860\n",
      "           2       0.01      0.02      0.01       420\n",
      "           3       0.00      0.00      0.00      1320\n",
      "           4       0.00      0.00      0.00      2100\n",
      "           5       0.01      0.01      0.01      2160\n",
      "           6       0.06      0.11      0.08       780\n",
      "           7       0.04      0.32      0.06       240\n",
      "           8       0.00      0.00      0.00      2070\n",
      "           9       0.00      0.00      0.00       300\n",
      "\n",
      "   micro avg       0.07      0.07      0.07     12660\n",
      "   macro avg       0.04      0.08      0.05     12660\n",
      "weighted avg       0.04      0.07      0.05     12660\n",
      "\n"
     ]
    },
    {
     "name": "stderr",
     "output_type": "stream",
     "text": [
      "C:\\Users\\singh\\Anaconda3\\lib\\site-packages\\sklearn\\metrics\\classification.py:1143: UndefinedMetricWarning: Precision and F-score are ill-defined and being set to 0.0 in labels with no predicted samples.\n",
      "  'precision', 'predicted', average, warn_for)\n"
     ]
    }
   ],
   "source": [
    "print(\"Confusion Matrix\")\n",
    "print(confusion_matrix(y,kmeans.labels_))\n",
    "print(\"\\n\")\n",
    "print(\"Classification report\")\n",
    "print(classification_report(y,kmeans.labels_))"
   ]
  },
  {
   "cell_type": "markdown",
   "metadata": {},
   "source": [
    "### K-Means with n_clusters=10"
   ]
  },
  {
   "cell_type": "code",
   "execution_count": 21,
   "metadata": {},
   "outputs": [
    {
     "name": "stdout",
     "output_type": "stream",
     "text": [
      "Total number of clusters found: 10\n"
     ]
    }
   ],
   "source": [
    "kmeans1 = KMeans(n_clusters=10)\n",
    "kmeans1.fit(x)\n",
    "# f = np.unique(kmeans.labels_)\n",
    "print(f\"Total number of clusters found: {len(np.unique(kmeans1.labels_))}\")"
   ]
  },
  {
   "cell_type": "code",
   "execution_count": 23,
   "metadata": {},
   "outputs": [
    {
     "name": "stdout",
     "output_type": "stream",
     "text": [
      "Confusion matrix\n",
      "[[ 405   50  318  371  195   71    0    0    0    0]\n",
      " [ 529  136  259  381  408  145    0    0    1    1]\n",
      " [  10   32   89   40  167   81    0    0    0    1]\n",
      " [  40  125    0    0  121  111    0    0  923    0]\n",
      " [  84  239    0    7  280  383    0    0    2 1105]\n",
      " [   1  144    0    0  251  100 1664    0    0    0]\n",
      " [  33  129    4   71    1  100    0  441    1    0]\n",
      " [   8   27   49   12   41  102    0    0    0    1]\n",
      " [  59 1005   16   10  583  395    1    0    1    0]\n",
      " [   4  133    0    0   54  108    0    0    0    1]]\n",
      "\n",
      "\n",
      "Classification report\n",
      "              precision    recall  f1-score   support\n",
      "\n",
      "           0       0.35      0.29      0.31      1410\n",
      "           1       0.07      0.07      0.07      1860\n",
      "           2       0.12      0.21      0.15       420\n",
      "           3       0.00      0.00      0.00      1320\n",
      "           4       0.13      0.13      0.13      2100\n",
      "           5       0.06      0.05      0.05      2160\n",
      "           6       0.00      0.00      0.00       780\n",
      "           7       0.00      0.00      0.00       240\n",
      "           8       0.00      0.00      0.00      2070\n",
      "           9       0.00      0.00      0.00       300\n",
      "\n",
      "   micro avg       0.08      0.08      0.08     12660\n",
      "   macro avg       0.07      0.08      0.07     12660\n",
      "weighted avg       0.09      0.08      0.08     12660\n",
      "\n"
     ]
    }
   ],
   "source": [
    "print(\"Confusion matrix\")\n",
    "print(confusion_matrix(y,kmeans1.labels_))\n",
    "print(\"\\n\")\n",
    "print(\"Classification report\")\n",
    "print(classification_report(y,kmeans1.labels_))"
   ]
  },
  {
   "cell_type": "code",
   "execution_count": null,
   "metadata": {},
   "outputs": [],
   "source": []
  }
 ],
 "metadata": {
  "kernelspec": {
   "display_name": "Python 3",
   "language": "python",
   "name": "python3"
  },
  "language_info": {
   "codemirror_mode": {
    "name": "ipython",
    "version": 3
   },
   "file_extension": ".py",
   "mimetype": "text/x-python",
   "name": "python",
   "nbconvert_exporter": "python",
   "pygments_lexer": "ipython3",
   "version": "3.7.1"
  }
 },
 "nbformat": 4,
 "nbformat_minor": 2
}
