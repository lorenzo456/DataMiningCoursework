{
 "cells": [
  {
   "cell_type": "code",
   "execution_count": 1,
   "metadata": {},
   "outputs": [],
   "source": [
    "import pandas as pd\n",
    "import numpy as np\n",
    "import cv2 as cv\n",
    "import matplotlib.pyplot as plt"
   ]
  },
  {
   "cell_type": "code",
   "execution_count": 2,
   "metadata": {},
   "outputs": [],
   "source": [
    "def get_array_of_matrix(dataset):\n",
    "    array_of_images = []\n",
    "    for row in dataset:\n",
    "        row = np.asarray(row)\n",
    "        matrix = np.reshape(row, (48, 48))\n",
    "        array_of_images.append(matrix)\n",
    "    return array_of_images\n",
    "\n",
    "\n",
    "def crop_dataset(dataset, row, clmn):\n",
    "    copped_dataset = []\n",
    "    for image in dataset:\n",
    "        y, x = image.shape\n",
    "        first_x = x//2-(row//2)\n",
    "        first_y = y//2-(clmn//2)\n",
    "        copped_dataset.append(image[first_y:first_y + clmn, first_x:first_x + row])\n",
    "    return copped_dataset\n",
    "\n",
    "\n",
    "def reshape_dataset(dataset):\n",
    "    reshaped_dataset = []\n",
    "    for image in dataset:\n",
    "        image = cv.resize(image, (48, 48)) # un po' bruttino\n",
    "        image = image.flatten()\n",
    "        reshaped_dataset.append(image)\n",
    "    # reshaped_dataset = np.reshape(reshaped_dataset, (12660, 2304)) # un po' bruttino\n",
    "    return reshaped_dataset\n",
    "\n",
    "\n",
    "def apply_adaptive_threshold(dataset):\n",
    "    dataset_with_filter = []\n",
    "    for image in dataset:\n",
    "        image = cv.adaptiveThreshold(image, 255, cv.ADAPTIVE_THRESH_GAUSSIAN_C, cv.THRESH_BINARY, 11, 2)\n",
    "        image = image.flatten()\n",
    "        dataset_with_filter.append(image)\n",
    "    dataset_with_filter = np.reshape(dataset_with_filter, (12660, 1600))\n",
    "    return dataset_with_filter\n"
   ]
  },
  {
   "cell_type": "code",
   "execution_count": 11,
   "metadata": {},
   "outputs": [],
   "source": [
    "x_train_gr_smpl = pd.read_csv(\"x_train_gr_smpl.csv\", delimiter=\",\", dtype=np.uint8)\n",
    "y_train_smpl = pd.read_csv(\"y_train_smpl.csv\", delimiter=\",\", dtype=np.uint8)\n",
    "\n",
    "dataset = np.asmatrix(x_train_gr_smpl)\n",
    "aom_dataset = get_array_of_matrix(dataset)\n",
    "\n",
    "cropped_dataset = crop_dataset(aom_dataset, 40, 40) # un po' bruttino\n",
    "\n",
    "#new_dataset = reshape_dataset(cropped_dataset)\n",
    "new_dataset = apply_adaptive_threshold(cropped_dataset)\n"
   ]
  },
  {
   "cell_type": "code",
   "execution_count": 9,
   "metadata": {},
   "outputs": [
    {
     "data": {
      "text/plain": [
       "array([255, 255, 255, ..., 255, 255, 255], dtype=uint8)"
      ]
     },
     "execution_count": 9,
     "metadata": {},
     "output_type": "execute_result"
    }
   ],
   "source": [
    "new_dataset"
   ]
  },
  {
   "cell_type": "code",
   "execution_count": 12,
   "metadata": {},
   "outputs": [],
   "source": [
    "df = pd.DataFrame(new_dataset)"
   ]
  },
  {
   "cell_type": "code",
   "execution_count": 16,
   "metadata": {},
   "outputs": [],
   "source": [
    "labels = pd.DataFrame(y_train_smpl)"
   ]
  },
  {
   "cell_type": "code",
   "execution_count": 18,
   "metadata": {},
   "outputs": [],
   "source": [
    "df[\"Labels\"] = labels"
   ]
  },
  {
   "cell_type": "code",
   "execution_count": 19,
   "metadata": {},
   "outputs": [
    {
     "data": {
      "text/html": [
       "<div>\n",
       "<style scoped>\n",
       "    .dataframe tbody tr th:only-of-type {\n",
       "        vertical-align: middle;\n",
       "    }\n",
       "\n",
       "    .dataframe tbody tr th {\n",
       "        vertical-align: top;\n",
       "    }\n",
       "\n",
       "    .dataframe thead th {\n",
       "        text-align: right;\n",
       "    }\n",
       "</style>\n",
       "<table border=\"1\" class=\"dataframe\">\n",
       "  <thead>\n",
       "    <tr style=\"text-align: right;\">\n",
       "      <th></th>\n",
       "      <th>0</th>\n",
       "      <th>1</th>\n",
       "      <th>2</th>\n",
       "      <th>3</th>\n",
       "      <th>4</th>\n",
       "      <th>5</th>\n",
       "      <th>6</th>\n",
       "      <th>7</th>\n",
       "      <th>8</th>\n",
       "      <th>9</th>\n",
       "      <th>...</th>\n",
       "      <th>1591</th>\n",
       "      <th>1592</th>\n",
       "      <th>1593</th>\n",
       "      <th>1594</th>\n",
       "      <th>1595</th>\n",
       "      <th>1596</th>\n",
       "      <th>1597</th>\n",
       "      <th>1598</th>\n",
       "      <th>1599</th>\n",
       "      <th>Labels</th>\n",
       "    </tr>\n",
       "  </thead>\n",
       "  <tbody>\n",
       "    <tr>\n",
       "      <th>0</th>\n",
       "      <td>255</td>\n",
       "      <td>255</td>\n",
       "      <td>255</td>\n",
       "      <td>255</td>\n",
       "      <td>255</td>\n",
       "      <td>255</td>\n",
       "      <td>255</td>\n",
       "      <td>255</td>\n",
       "      <td>255</td>\n",
       "      <td>255</td>\n",
       "      <td>...</td>\n",
       "      <td>255</td>\n",
       "      <td>255</td>\n",
       "      <td>0</td>\n",
       "      <td>0</td>\n",
       "      <td>255</td>\n",
       "      <td>255</td>\n",
       "      <td>255</td>\n",
       "      <td>255</td>\n",
       "      <td>255</td>\n",
       "      <td>0</td>\n",
       "    </tr>\n",
       "    <tr>\n",
       "      <th>1</th>\n",
       "      <td>255</td>\n",
       "      <td>255</td>\n",
       "      <td>255</td>\n",
       "      <td>255</td>\n",
       "      <td>255</td>\n",
       "      <td>255</td>\n",
       "      <td>255</td>\n",
       "      <td>255</td>\n",
       "      <td>255</td>\n",
       "      <td>255</td>\n",
       "      <td>...</td>\n",
       "      <td>255</td>\n",
       "      <td>255</td>\n",
       "      <td>255</td>\n",
       "      <td>255</td>\n",
       "      <td>0</td>\n",
       "      <td>255</td>\n",
       "      <td>255</td>\n",
       "      <td>255</td>\n",
       "      <td>255</td>\n",
       "      <td>0</td>\n",
       "    </tr>\n",
       "    <tr>\n",
       "      <th>2</th>\n",
       "      <td>255</td>\n",
       "      <td>255</td>\n",
       "      <td>255</td>\n",
       "      <td>255</td>\n",
       "      <td>255</td>\n",
       "      <td>255</td>\n",
       "      <td>255</td>\n",
       "      <td>255</td>\n",
       "      <td>255</td>\n",
       "      <td>0</td>\n",
       "      <td>...</td>\n",
       "      <td>255</td>\n",
       "      <td>0</td>\n",
       "      <td>255</td>\n",
       "      <td>255</td>\n",
       "      <td>255</td>\n",
       "      <td>255</td>\n",
       "      <td>255</td>\n",
       "      <td>255</td>\n",
       "      <td>255</td>\n",
       "      <td>0</td>\n",
       "    </tr>\n",
       "    <tr>\n",
       "      <th>3</th>\n",
       "      <td>255</td>\n",
       "      <td>255</td>\n",
       "      <td>255</td>\n",
       "      <td>255</td>\n",
       "      <td>255</td>\n",
       "      <td>255</td>\n",
       "      <td>255</td>\n",
       "      <td>255</td>\n",
       "      <td>255</td>\n",
       "      <td>255</td>\n",
       "      <td>...</td>\n",
       "      <td>255</td>\n",
       "      <td>255</td>\n",
       "      <td>255</td>\n",
       "      <td>255</td>\n",
       "      <td>255</td>\n",
       "      <td>255</td>\n",
       "      <td>255</td>\n",
       "      <td>255</td>\n",
       "      <td>255</td>\n",
       "      <td>0</td>\n",
       "    </tr>\n",
       "    <tr>\n",
       "      <th>4</th>\n",
       "      <td>255</td>\n",
       "      <td>255</td>\n",
       "      <td>255</td>\n",
       "      <td>255</td>\n",
       "      <td>255</td>\n",
       "      <td>255</td>\n",
       "      <td>255</td>\n",
       "      <td>255</td>\n",
       "      <td>255</td>\n",
       "      <td>255</td>\n",
       "      <td>...</td>\n",
       "      <td>0</td>\n",
       "      <td>0</td>\n",
       "      <td>0</td>\n",
       "      <td>255</td>\n",
       "      <td>255</td>\n",
       "      <td>255</td>\n",
       "      <td>255</td>\n",
       "      <td>255</td>\n",
       "      <td>255</td>\n",
       "      <td>0</td>\n",
       "    </tr>\n",
       "  </tbody>\n",
       "</table>\n",
       "<p>5 rows × 1601 columns</p>\n",
       "</div>"
      ],
      "text/plain": [
       "     0    1    2    3    4    5    6    7    8    9   ...    1591  1592  1593  \\\n",
       "0  255  255  255  255  255  255  255  255  255  255   ...     255   255     0   \n",
       "1  255  255  255  255  255  255  255  255  255  255   ...     255   255   255   \n",
       "2  255  255  255  255  255  255  255  255  255    0   ...     255     0   255   \n",
       "3  255  255  255  255  255  255  255  255  255  255   ...     255   255   255   \n",
       "4  255  255  255  255  255  255  255  255  255  255   ...       0     0     0   \n",
       "\n",
       "   1594  1595  1596  1597  1598  1599  Labels  \n",
       "0     0   255   255   255   255   255       0  \n",
       "1   255     0   255   255   255   255       0  \n",
       "2   255   255   255   255   255   255       0  \n",
       "3   255   255   255   255   255   255       0  \n",
       "4   255   255   255   255   255   255       0  \n",
       "\n",
       "[5 rows x 1601 columns]"
      ]
     },
     "execution_count": 19,
     "metadata": {},
     "output_type": "execute_result"
    }
   ],
   "source": [
    "df.head()"
   ]
  },
  {
   "cell_type": "code",
   "execution_count": 42,
   "metadata": {},
   "outputs": [],
   "source": [
    "label_0 = df.loc[df[\"Labels\"]==0].copy()"
   ]
  },
  {
   "cell_type": "code",
   "execution_count": 43,
   "metadata": {},
   "outputs": [],
   "source": [
    "label_0.drop([\"Labels\"],axis=1,inplace=True)"
   ]
  },
  {
   "cell_type": "code",
   "execution_count": 52,
   "metadata": {},
   "outputs": [
    {
     "data": {
      "text/plain": [
       "899   185     1.297086e-18\n",
       "185   899     1.297086e-18\n",
       "1035  1367    6.196574e-18\n",
       "1367  1035    6.196574e-18\n",
       "903   1367    9.673394e-18\n",
       "1367  903     9.673394e-18\n",
       "1324  447     9.691175e-18\n",
       "447   1324    9.691175e-18\n",
       "63    447     9.814495e-18\n",
       "447   63      9.814495e-18\n",
       "dtype: float64"
      ]
     },
     "execution_count": 52,
     "metadata": {},
     "output_type": "execute_result"
    }
   ],
   "source": [
    "label_0.corr().abs().unstack().sort_values().head(10)"
   ]
  },
  {
   "cell_type": "code",
   "execution_count": 53,
   "metadata": {},
   "outputs": [],
   "source": [
    "label_1 = df.loc[df[\"Labels\"]==1].copy()"
   ]
  },
  {
   "cell_type": "code",
   "execution_count": 56,
   "metadata": {},
   "outputs": [],
   "source": [
    "label_1.drop([\"Labels\"],axis=1,inplace=True)"
   ]
  },
  {
   "cell_type": "code",
   "execution_count": 57,
   "metadata": {},
   "outputs": [
    {
     "data": {
      "text/plain": [
       "1578  1181    1.140822e-17\n",
       "1181  1578    1.140822e-17\n",
       "1136  999     1.826861e-17\n",
       "999   1136    1.826861e-17\n",
       "1165  813     2.882485e-17\n",
       "813   1165    2.882485e-17\n",
       "162   501     3.253429e-17\n",
       "501   162     3.253429e-17\n",
       "82    1169    3.803200e-17\n",
       "1169  82      3.803200e-17\n",
       "dtype: float64"
      ]
     },
     "execution_count": 57,
     "metadata": {},
     "output_type": "execute_result"
    }
   ],
   "source": [
    "label_1.corr().abs().unstack().sort_values().head(10)"
   ]
  },
  {
   "cell_type": "code",
   "execution_count": 64,
   "metadata": {},
   "outputs": [
    {
     "data": {
      "text/plain": [
       "1073  1080    0.0\n",
       "352   694     0.0\n",
       "      1009    0.0\n",
       "1291  517     0.0\n",
       "908   1225    0.0\n",
       "23    138     0.0\n",
       "352   1556    0.0\n",
       "157   184     0.0\n",
       "      415     0.0\n",
       "      926     0.0\n",
       "dtype: float64"
      ]
     },
     "execution_count": 64,
     "metadata": {},
     "output_type": "execute_result"
    }
   ],
   "source": [
    "label_2 = df.loc[df[\"Labels\"]==2].copy()\n",
    "label_2.drop([\"Labels\"],axis=1,inplace=True)\n",
    "label_2.corr().abs().unstack().sort_values().head(10)"
   ]
  },
  {
   "cell_type": "code",
   "execution_count": 65,
   "metadata": {},
   "outputs": [
    {
     "data": {
      "text/plain": [
       "631   1208    0.0\n",
       "1154  165     0.0\n",
       "502   1174    0.0\n",
       "274   1533    0.0\n",
       "449   1458    0.0\n",
       "825   165     0.0\n",
       "631   1410    0.0\n",
       "1343  1154    0.0\n",
       "1154  1343    0.0\n",
       "165   1533    0.0\n",
       "dtype: float64"
      ]
     },
     "execution_count": 65,
     "metadata": {},
     "output_type": "execute_result"
    }
   ],
   "source": [
    "label_3 = df.loc[df[\"Labels\"]==3].copy()\n",
    "label_3.drop([\"Labels\"],axis=1,inplace=True)\n",
    "label_3.corr().abs().unstack().sort_values().head(10)"
   ]
  },
  {
   "cell_type": "code",
   "execution_count": 66,
   "metadata": {},
   "outputs": [
    {
     "data": {
      "text/plain": [
       "399   301     0.000000e+00\n",
       "301   399     0.000000e+00\n",
       "1458  103     5.443239e-20\n",
       "103   1458    5.443239e-20\n",
       "1424  1594    5.745381e-20\n",
       "1594  1424    5.745381e-20\n",
       "399   1216    1.221560e-19\n",
       "1216  399     1.221560e-19\n",
       "399   1027    5.516389e-19\n",
       "1027  399     5.516389e-19\n",
       "dtype: float64"
      ]
     },
     "execution_count": 66,
     "metadata": {},
     "output_type": "execute_result"
    }
   ],
   "source": [
    "label_4 = df.loc[df[\"Labels\"]==4].copy()\n",
    "label_4.drop([\"Labels\"],axis=1,inplace=True)\n",
    "label_4.corr().abs().unstack().sort_values().head(10)"
   ]
  },
  {
   "cell_type": "code",
   "execution_count": 67,
   "metadata": {},
   "outputs": [
    {
     "data": {
      "text/plain": [
       "422   1458    0.0\n",
       "1366  792     0.0\n",
       "125   1145    0.0\n",
       "      710     0.0\n",
       "880   899     0.0\n",
       "      1254    0.0\n",
       "      1378    0.0\n",
       "949   915     0.0\n",
       "1070  448     0.0\n",
       "      493     0.0\n",
       "dtype: float64"
      ]
     },
     "execution_count": 67,
     "metadata": {},
     "output_type": "execute_result"
    }
   ],
   "source": [
    "label_5 = df.loc[df[\"Labels\"]==5].copy()\n",
    "label_5.drop([\"Labels\"],axis=1,inplace=True)\n",
    "label_5.corr().abs().unstack().sort_values().head(10)"
   ]
  },
  {
   "cell_type": "code",
   "execution_count": 68,
   "metadata": {},
   "outputs": [
    {
     "data": {
      "text/plain": [
       "1351  73      0.000000e+00\n",
       "1201  1154    0.000000e+00\n",
       "1066  474     0.000000e+00\n",
       "1154  1201    0.000000e+00\n",
       "73    1351    0.000000e+00\n",
       "1161  886     0.000000e+00\n",
       "886   1161    0.000000e+00\n",
       "474   1066    0.000000e+00\n",
       "1206  73      5.802722e-19\n",
       "73    1206    5.802722e-19\n",
       "dtype: float64"
      ]
     },
     "execution_count": 68,
     "metadata": {},
     "output_type": "execute_result"
    }
   ],
   "source": [
    "label_6 = df.loc[df[\"Labels\"]==6].copy()\n",
    "label_6.drop([\"Labels\"],axis=1,inplace=True)\n",
    "label_6.corr().abs().unstack().sort_values().head(10)"
   ]
  },
  {
   "cell_type": "code",
   "execution_count": 69,
   "metadata": {},
   "outputs": [
    {
     "data": {
      "text/plain": [
       "97    369     0.0\n",
       "756   1020    0.0\n",
       "1139  792     0.0\n",
       "1261  1516    0.0\n",
       "918   1437    0.0\n",
       "1261  1567    0.0\n",
       "      1593    0.0\n",
       "1074  1300    0.0\n",
       "      1299    0.0\n",
       "1139  770     0.0\n",
       "dtype: float64"
      ]
     },
     "execution_count": 69,
     "metadata": {},
     "output_type": "execute_result"
    }
   ],
   "source": [
    "label_7 = df.loc[df[\"Labels\"]==7].copy()\n",
    "label_7.drop([\"Labels\"],axis=1,inplace=True)\n",
    "label_7.corr().abs().unstack().sort_values().head(10)"
   ]
  },
  {
   "cell_type": "code",
   "execution_count": 70,
   "metadata": {},
   "outputs": [
    {
     "data": {
      "text/plain": [
       "389   62      0.000000e+00\n",
       "62    389     0.000000e+00\n",
       "906   62      1.584379e-18\n",
       "62    906     1.584379e-18\n",
       "424   1239    3.353398e-18\n",
       "1239  424     3.353398e-18\n",
       "68    240     4.658745e-18\n",
       "240   68      4.658745e-18\n",
       "816   1239    7.787151e-18\n",
       "1239  816     7.787151e-18\n",
       "dtype: float64"
      ]
     },
     "execution_count": 70,
     "metadata": {},
     "output_type": "execute_result"
    }
   ],
   "source": [
    "label_8 = df.loc[df[\"Labels\"]==8].copy()\n",
    "label_8.drop([\"Labels\"],axis=1,inplace=True)\n",
    "label_8.corr().abs().unstack().sort_values().head(10)"
   ]
  },
  {
   "cell_type": "code",
   "execution_count": 71,
   "metadata": {},
   "outputs": [
    {
     "data": {
      "text/plain": [
       "604   1450    0.0\n",
       "1341  467     0.0\n",
       "      516     0.0\n",
       "5     1537    0.0\n",
       "792   788     0.0\n",
       "1341  545     0.0\n",
       "      602     0.0\n",
       "      622     0.0\n",
       "1049  1520    0.0\n",
       "1341  832     0.0\n",
       "dtype: float64"
      ]
     },
     "execution_count": 71,
     "metadata": {},
     "output_type": "execute_result"
    }
   ],
   "source": [
    "label_9 = df.loc[df[\"Labels\"]==9].copy()\n",
    "label_9.drop([\"Labels\"],axis=1,inplace=True)\n",
    "label_9.corr().abs().unstack().sort_values().head(10)"
   ]
  },
  {
   "cell_type": "code",
   "execution_count": null,
   "metadata": {},
   "outputs": [],
   "source": []
  }
 ],
 "metadata": {
  "kernelspec": {
   "display_name": "Python 3",
   "language": "python",
   "name": "python3"
  },
  "language_info": {
   "codemirror_mode": {
    "name": "ipython",
    "version": 3
   },
   "file_extension": ".py",
   "mimetype": "text/x-python",
   "name": "python",
   "nbconvert_exporter": "python",
   "pygments_lexer": "ipython3",
   "version": "3.7.1"
  }
 },
 "nbformat": 4,
 "nbformat_minor": 2
}
